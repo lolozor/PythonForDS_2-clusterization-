{
 "cells": [
  {
   "cell_type": "code",
   "execution_count": null,
   "metadata": {},
   "outputs": [],
   "source": []
  },
  {
   "cell_type": "markdown",
   "metadata": {},
   "source": [
    "# Курсовой проект по курсу: Библиотеки Python для Data Science. Продоолжение\n",
    "\n"
   ]
  },
  {
   "cell_type": "markdown",
   "metadata": {},
   "source": [
    "# Оглавление <a name='index'>"
   ]
  },
  {
   "cell_type": "markdown",
   "metadata": {},
   "source": [
    " Загрузка\n",
    " \n",
    " [Пропуски](#nulls)\n",
    "\n",
    "* **[Home Ownership](#1_hw)** - домовладение \n",
    "* **[Annual Income](#2_ai)** - годовой доход (**1557 пропусков**)\n",
    "* **[Years in current job](#3_yicj)** - количество лет на текущем месте работы (**371 пропуск**)\n",
    "* **[Tax Liens](#4_tl)** - налоговые обременения\n",
    "* **[Number of Open Accounts](#5_nooa)** - количество открытых счетов\n",
    "* **[Years of Credit History](#6_yoch)** - количество лет кредитной истории\n",
    "* **[Maximum Open Credit](#7_moc)** - наибольший открытый кредит\n",
    "* **[Number of Credit Problems](#8_nocp)** - количество проблем с кредитом\n",
    "* **[Months since last delinquent](#9_msld)** - количество месяцев с последней просрочки платежа (**4071 пропуск**) `!!! ПОКА НЕ ТРОГАЕМ. СМОТРИ ДАЛЕЕ`\n",
    "* **[Bankruptcies](#10_b)** - банкротства (**14 пропусков**)\n",
    "* **[Purpose](#11_p)** - цель кредита\n",
    "* **[Term](#12_t)** - срок кредита\n",
    "* **[Current Loan Amount](#13_cla)** - текущая сумма кредита\n",
    "* **[Current Credit Balance](#14_ccb)** - текущий кредитный баланс\n",
    "* **[Monthly Debt](#15_md)** - ежемесячный долг\n",
    "* **[Credit Score](#16_cs)** - кредитный рейтинг (**1557 пропусков**)\n",
    "* **[Credit Default](#17_cd)** - факт невыполнения кредитных обязательств (0 - погашен вовремя, 1 - просрочка) \n",
    "\n",
    "**[Заполнение `Month since last delinquent` на основе других столбцов](#monthNULL)**\n",
    "\n",
    "**[Новый признак](#new)** - вместо `Tax Liens`, `Number of Credit Problems` и `Bankruptcies` делаю один признак, а эти исключаю\n",
    "\n",
    "**[Обучение на моделях](#20_learn)**"
   ]
  },
  {
   "cell_type": "markdown",
   "metadata": {},
   "source": [
    "## Загрузка всего <a name='load'></a>\n",
    "\n",
    "[к оглавлению](#index)"
   ]
  },
  {
   "cell_type": "code",
   "execution_count": 248,
   "metadata": {},
   "outputs": [],
   "source": [
    "# Загрузка библиотек:\n",
    "\n",
    "import numpy as np\n",
    "import pandas as pd\n",
    "import seaborn as sns\n",
    "from matplotlib import pyplot as plt\n",
    "%matplotlib inline\n",
    "\n",
    "from sklearn.model_selection import train_test_split\n",
    "\n",
    "# Алгоритмы кластеризации (какие нашел)\n",
    "\n",
    "from sklearn.linear_model import LogisticRegression\n",
    "from sklearn.neighbors import KNeighborsClassifier\n",
    "import xgboost as xgb, lightgbm as lgbm, catboost as catb\n",
    "from sklearn.model_selection import KFold, GridSearchCV, RandomizedSearchCV\n",
    "from sklearn.ensemble import AdaBoostClassifier\n",
    "from sklearn.ensemble import ExtraTreesClassifier\n",
    "from sklearn.ensemble import GradientBoostingClassifier\n",
    "from sklearn.ensemble import RandomForestClassifier\n",
    "from sklearn.ensemble import VotingClassifier\n",
    "from sklearn.svm import SVC\n",
    "from sklearn.naive_bayes import GaussianNB\n",
    "from sklearn.linear_model import Perceptron\n",
    "\n",
    "# Метрика F1:\n",
    "from sklearn.metrics import f1_score\n",
    "\n",
    "# для статистики\n",
    "from scipy.stats import chi2_contingency"
   ]
  },
  {
   "cell_type": "code",
   "execution_count": 249,
   "metadata": {},
   "outputs": [],
   "source": [
    "# Загрузка наборов данных:\n",
    "\n",
    "df = pd.read_csv('course_project_train.csv')\n",
    "df_test = pd.read_csv('course_project_test.csv')"
   ]
  },
  {
   "cell_type": "code",
   "execution_count": 250,
   "metadata": {},
   "outputs": [],
   "source": [
    "# Добавляем в тренировочный набор нанных поле ID\n",
    "\n",
    "df['ID'] = df.index.tolist()"
   ]
  },
  {
   "cell_type": "markdown",
   "metadata": {},
   "source": [
    "## Обзор данных <a name='view'>\n",
    "    \n",
    "[к оглавлению](#index)"
   ]
  },
  {
   "cell_type": "code",
   "execution_count": 251,
   "metadata": {},
   "outputs": [
    {
     "data": {
      "text/html": [
       "<div>\n",
       "<style scoped>\n",
       "    .dataframe tbody tr th:only-of-type {\n",
       "        vertical-align: middle;\n",
       "    }\n",
       "\n",
       "    .dataframe tbody tr th {\n",
       "        vertical-align: top;\n",
       "    }\n",
       "\n",
       "    .dataframe thead th {\n",
       "        text-align: right;\n",
       "    }\n",
       "</style>\n",
       "<table border=\"1\" class=\"dataframe\">\n",
       "  <thead>\n",
       "    <tr style=\"text-align: right;\">\n",
       "      <th></th>\n",
       "      <th>Home Ownership</th>\n",
       "      <th>Annual Income</th>\n",
       "      <th>Years in current job</th>\n",
       "      <th>Tax Liens</th>\n",
       "      <th>Number of Open Accounts</th>\n",
       "      <th>Years of Credit History</th>\n",
       "      <th>Maximum Open Credit</th>\n",
       "      <th>Number of Credit Problems</th>\n",
       "      <th>Months since last delinquent</th>\n",
       "      <th>Bankruptcies</th>\n",
       "      <th>Purpose</th>\n",
       "      <th>Term</th>\n",
       "      <th>Current Loan Amount</th>\n",
       "      <th>Current Credit Balance</th>\n",
       "      <th>Monthly Debt</th>\n",
       "      <th>Credit Score</th>\n",
       "      <th>Credit Default</th>\n",
       "      <th>ID</th>\n",
       "    </tr>\n",
       "  </thead>\n",
       "  <tbody>\n",
       "    <tr>\n",
       "      <th>0</th>\n",
       "      <td>Own Home</td>\n",
       "      <td>482087.0</td>\n",
       "      <td>NaN</td>\n",
       "      <td>0.0</td>\n",
       "      <td>11.0</td>\n",
       "      <td>26.3</td>\n",
       "      <td>685960.0</td>\n",
       "      <td>1.0</td>\n",
       "      <td>NaN</td>\n",
       "      <td>1.0</td>\n",
       "      <td>debt consolidation</td>\n",
       "      <td>Short Term</td>\n",
       "      <td>99999999.0</td>\n",
       "      <td>47386.0</td>\n",
       "      <td>7914.0</td>\n",
       "      <td>749.0</td>\n",
       "      <td>0</td>\n",
       "      <td>0</td>\n",
       "    </tr>\n",
       "    <tr>\n",
       "      <th>1</th>\n",
       "      <td>Own Home</td>\n",
       "      <td>1025487.0</td>\n",
       "      <td>10+ years</td>\n",
       "      <td>0.0</td>\n",
       "      <td>15.0</td>\n",
       "      <td>15.3</td>\n",
       "      <td>1181730.0</td>\n",
       "      <td>0.0</td>\n",
       "      <td>NaN</td>\n",
       "      <td>0.0</td>\n",
       "      <td>debt consolidation</td>\n",
       "      <td>Long Term</td>\n",
       "      <td>264968.0</td>\n",
       "      <td>394972.0</td>\n",
       "      <td>18373.0</td>\n",
       "      <td>737.0</td>\n",
       "      <td>1</td>\n",
       "      <td>1</td>\n",
       "    </tr>\n",
       "    <tr>\n",
       "      <th>2</th>\n",
       "      <td>Home Mortgage</td>\n",
       "      <td>751412.0</td>\n",
       "      <td>8 years</td>\n",
       "      <td>0.0</td>\n",
       "      <td>11.0</td>\n",
       "      <td>35.0</td>\n",
       "      <td>1182434.0</td>\n",
       "      <td>0.0</td>\n",
       "      <td>NaN</td>\n",
       "      <td>0.0</td>\n",
       "      <td>debt consolidation</td>\n",
       "      <td>Short Term</td>\n",
       "      <td>99999999.0</td>\n",
       "      <td>308389.0</td>\n",
       "      <td>13651.0</td>\n",
       "      <td>742.0</td>\n",
       "      <td>0</td>\n",
       "      <td>2</td>\n",
       "    </tr>\n",
       "    <tr>\n",
       "      <th>3</th>\n",
       "      <td>Own Home</td>\n",
       "      <td>805068.0</td>\n",
       "      <td>6 years</td>\n",
       "      <td>0.0</td>\n",
       "      <td>8.0</td>\n",
       "      <td>22.5</td>\n",
       "      <td>147400.0</td>\n",
       "      <td>1.0</td>\n",
       "      <td>NaN</td>\n",
       "      <td>1.0</td>\n",
       "      <td>debt consolidation</td>\n",
       "      <td>Short Term</td>\n",
       "      <td>121396.0</td>\n",
       "      <td>95855.0</td>\n",
       "      <td>11338.0</td>\n",
       "      <td>694.0</td>\n",
       "      <td>0</td>\n",
       "      <td>3</td>\n",
       "    </tr>\n",
       "    <tr>\n",
       "      <th>4</th>\n",
       "      <td>Rent</td>\n",
       "      <td>776264.0</td>\n",
       "      <td>8 years</td>\n",
       "      <td>0.0</td>\n",
       "      <td>13.0</td>\n",
       "      <td>13.6</td>\n",
       "      <td>385836.0</td>\n",
       "      <td>1.0</td>\n",
       "      <td>NaN</td>\n",
       "      <td>0.0</td>\n",
       "      <td>debt consolidation</td>\n",
       "      <td>Short Term</td>\n",
       "      <td>125840.0</td>\n",
       "      <td>93309.0</td>\n",
       "      <td>7180.0</td>\n",
       "      <td>719.0</td>\n",
       "      <td>0</td>\n",
       "      <td>4</td>\n",
       "    </tr>\n",
       "  </tbody>\n",
       "</table>\n",
       "</div>"
      ],
      "text/plain": [
       "  Home Ownership  Annual Income Years in current job  Tax Liens  \\\n",
       "0       Own Home       482087.0                  NaN        0.0   \n",
       "1       Own Home      1025487.0            10+ years        0.0   \n",
       "2  Home Mortgage       751412.0              8 years        0.0   \n",
       "3       Own Home       805068.0              6 years        0.0   \n",
       "4           Rent       776264.0              8 years        0.0   \n",
       "\n",
       "   Number of Open Accounts  Years of Credit History  Maximum Open Credit  \\\n",
       "0                     11.0                     26.3             685960.0   \n",
       "1                     15.0                     15.3            1181730.0   \n",
       "2                     11.0                     35.0            1182434.0   \n",
       "3                      8.0                     22.5             147400.0   \n",
       "4                     13.0                     13.6             385836.0   \n",
       "\n",
       "   Number of Credit Problems  Months since last delinquent  Bankruptcies  \\\n",
       "0                        1.0                           NaN           1.0   \n",
       "1                        0.0                           NaN           0.0   \n",
       "2                        0.0                           NaN           0.0   \n",
       "3                        1.0                           NaN           1.0   \n",
       "4                        1.0                           NaN           0.0   \n",
       "\n",
       "              Purpose        Term  Current Loan Amount  \\\n",
       "0  debt consolidation  Short Term           99999999.0   \n",
       "1  debt consolidation   Long Term             264968.0   \n",
       "2  debt consolidation  Short Term           99999999.0   \n",
       "3  debt consolidation  Short Term             121396.0   \n",
       "4  debt consolidation  Short Term             125840.0   \n",
       "\n",
       "   Current Credit Balance  Monthly Debt  Credit Score  Credit Default  ID  \n",
       "0                 47386.0        7914.0         749.0               0   0  \n",
       "1                394972.0       18373.0         737.0               1   1  \n",
       "2                308389.0       13651.0         742.0               0   2  \n",
       "3                 95855.0       11338.0         694.0               0   3  \n",
       "4                 93309.0        7180.0         719.0               0   4  "
      ]
     },
     "execution_count": 251,
     "metadata": {},
     "output_type": "execute_result"
    }
   ],
   "source": [
    "df.head()"
   ]
  },
  {
   "cell_type": "code",
   "execution_count": 252,
   "metadata": {},
   "outputs": [
    {
     "data": {
      "text/plain": [
       "(7500, 18)"
      ]
     },
     "execution_count": 252,
     "metadata": {},
     "output_type": "execute_result"
    }
   ],
   "source": [
    "df.shape"
   ]
  },
  {
   "cell_type": "code",
   "execution_count": 253,
   "metadata": {},
   "outputs": [
    {
     "name": "stdout",
     "output_type": "stream",
     "text": [
      "<class 'pandas.core.frame.DataFrame'>\n",
      "RangeIndex: 7500 entries, 0 to 7499\n",
      "Data columns (total 18 columns):\n",
      " #   Column                        Non-Null Count  Dtype  \n",
      "---  ------                        --------------  -----  \n",
      " 0   Home Ownership                7500 non-null   object \n",
      " 1   Annual Income                 5943 non-null   float64\n",
      " 2   Years in current job          7129 non-null   object \n",
      " 3   Tax Liens                     7500 non-null   float64\n",
      " 4   Number of Open Accounts       7500 non-null   float64\n",
      " 5   Years of Credit History       7500 non-null   float64\n",
      " 6   Maximum Open Credit           7500 non-null   float64\n",
      " 7   Number of Credit Problems     7500 non-null   float64\n",
      " 8   Months since last delinquent  3419 non-null   float64\n",
      " 9   Bankruptcies                  7486 non-null   float64\n",
      " 10  Purpose                       7500 non-null   object \n",
      " 11  Term                          7500 non-null   object \n",
      " 12  Current Loan Amount           7500 non-null   float64\n",
      " 13  Current Credit Balance        7500 non-null   float64\n",
      " 14  Monthly Debt                  7500 non-null   float64\n",
      " 15  Credit Score                  5943 non-null   float64\n",
      " 16  Credit Default                7500 non-null   int64  \n",
      " 17  ID                            7500 non-null   int64  \n",
      "dtypes: float64(12), int64(2), object(4)\n",
      "memory usage: 1.0+ MB\n"
     ]
    }
   ],
   "source": [
    "df.info()"
   ]
  },
  {
   "cell_type": "code",
   "execution_count": 254,
   "metadata": {},
   "outputs": [
    {
     "data": {
      "text/html": [
       "<div>\n",
       "<style scoped>\n",
       "    .dataframe tbody tr th:only-of-type {\n",
       "        vertical-align: middle;\n",
       "    }\n",
       "\n",
       "    .dataframe tbody tr th {\n",
       "        vertical-align: top;\n",
       "    }\n",
       "\n",
       "    .dataframe thead th {\n",
       "        text-align: right;\n",
       "    }\n",
       "</style>\n",
       "<table border=\"1\" class=\"dataframe\">\n",
       "  <thead>\n",
       "    <tr style=\"text-align: right;\">\n",
       "      <th></th>\n",
       "      <th>count</th>\n",
       "      <th>mean</th>\n",
       "      <th>std</th>\n",
       "      <th>min</th>\n",
       "      <th>25%</th>\n",
       "      <th>50%</th>\n",
       "      <th>75%</th>\n",
       "      <th>max</th>\n",
       "    </tr>\n",
       "  </thead>\n",
       "  <tbody>\n",
       "    <tr>\n",
       "      <th>Annual Income</th>\n",
       "      <td>5943.0</td>\n",
       "      <td>1.366392e+06</td>\n",
       "      <td>8.453392e+05</td>\n",
       "      <td>164597.0</td>\n",
       "      <td>844341.00</td>\n",
       "      <td>1168386.0</td>\n",
       "      <td>1640137.00</td>\n",
       "      <td>1.014934e+07</td>\n",
       "    </tr>\n",
       "    <tr>\n",
       "      <th>Tax Liens</th>\n",
       "      <td>7500.0</td>\n",
       "      <td>3.013333e-02</td>\n",
       "      <td>2.716035e-01</td>\n",
       "      <td>0.0</td>\n",
       "      <td>0.00</td>\n",
       "      <td>0.0</td>\n",
       "      <td>0.00</td>\n",
       "      <td>7.000000e+00</td>\n",
       "    </tr>\n",
       "    <tr>\n",
       "      <th>Number of Open Accounts</th>\n",
       "      <td>7500.0</td>\n",
       "      <td>1.113093e+01</td>\n",
       "      <td>4.908924e+00</td>\n",
       "      <td>2.0</td>\n",
       "      <td>8.00</td>\n",
       "      <td>10.0</td>\n",
       "      <td>14.00</td>\n",
       "      <td>4.300000e+01</td>\n",
       "    </tr>\n",
       "    <tr>\n",
       "      <th>Years of Credit History</th>\n",
       "      <td>7500.0</td>\n",
       "      <td>1.831747e+01</td>\n",
       "      <td>7.041946e+00</td>\n",
       "      <td>4.0</td>\n",
       "      <td>13.50</td>\n",
       "      <td>17.0</td>\n",
       "      <td>21.80</td>\n",
       "      <td>5.770000e+01</td>\n",
       "    </tr>\n",
       "    <tr>\n",
       "      <th>Maximum Open Credit</th>\n",
       "      <td>7500.0</td>\n",
       "      <td>9.451537e+05</td>\n",
       "      <td>1.602622e+07</td>\n",
       "      <td>0.0</td>\n",
       "      <td>279229.50</td>\n",
       "      <td>478159.0</td>\n",
       "      <td>793501.50</td>\n",
       "      <td>1.304726e+09</td>\n",
       "    </tr>\n",
       "    <tr>\n",
       "      <th>Number of Credit Problems</th>\n",
       "      <td>7500.0</td>\n",
       "      <td>1.700000e-01</td>\n",
       "      <td>4.985978e-01</td>\n",
       "      <td>0.0</td>\n",
       "      <td>0.00</td>\n",
       "      <td>0.0</td>\n",
       "      <td>0.00</td>\n",
       "      <td>7.000000e+00</td>\n",
       "    </tr>\n",
       "    <tr>\n",
       "      <th>Months since last delinquent</th>\n",
       "      <td>3419.0</td>\n",
       "      <td>3.469260e+01</td>\n",
       "      <td>2.168881e+01</td>\n",
       "      <td>0.0</td>\n",
       "      <td>16.00</td>\n",
       "      <td>32.0</td>\n",
       "      <td>50.00</td>\n",
       "      <td>1.180000e+02</td>\n",
       "    </tr>\n",
       "    <tr>\n",
       "      <th>Bankruptcies</th>\n",
       "      <td>7486.0</td>\n",
       "      <td>1.171520e-01</td>\n",
       "      <td>3.471917e-01</td>\n",
       "      <td>0.0</td>\n",
       "      <td>0.00</td>\n",
       "      <td>0.0</td>\n",
       "      <td>0.00</td>\n",
       "      <td>4.000000e+00</td>\n",
       "    </tr>\n",
       "    <tr>\n",
       "      <th>Current Loan Amount</th>\n",
       "      <td>7500.0</td>\n",
       "      <td>1.187318e+07</td>\n",
       "      <td>3.192612e+07</td>\n",
       "      <td>11242.0</td>\n",
       "      <td>180169.00</td>\n",
       "      <td>309573.0</td>\n",
       "      <td>519882.00</td>\n",
       "      <td>1.000000e+08</td>\n",
       "    </tr>\n",
       "    <tr>\n",
       "      <th>Current Credit Balance</th>\n",
       "      <td>7500.0</td>\n",
       "      <td>2.898332e+05</td>\n",
       "      <td>3.178714e+05</td>\n",
       "      <td>0.0</td>\n",
       "      <td>114256.50</td>\n",
       "      <td>209323.0</td>\n",
       "      <td>360406.25</td>\n",
       "      <td>6.506797e+06</td>\n",
       "    </tr>\n",
       "    <tr>\n",
       "      <th>Monthly Debt</th>\n",
       "      <td>7500.0</td>\n",
       "      <td>1.831445e+04</td>\n",
       "      <td>1.192676e+04</td>\n",
       "      <td>0.0</td>\n",
       "      <td>10067.50</td>\n",
       "      <td>16076.5</td>\n",
       "      <td>23818.00</td>\n",
       "      <td>1.366790e+05</td>\n",
       "    </tr>\n",
       "    <tr>\n",
       "      <th>Credit Score</th>\n",
       "      <td>5943.0</td>\n",
       "      <td>1.151087e+03</td>\n",
       "      <td>1.604451e+03</td>\n",
       "      <td>585.0</td>\n",
       "      <td>711.00</td>\n",
       "      <td>731.0</td>\n",
       "      <td>743.00</td>\n",
       "      <td>7.510000e+03</td>\n",
       "    </tr>\n",
       "    <tr>\n",
       "      <th>Credit Default</th>\n",
       "      <td>7500.0</td>\n",
       "      <td>2.817333e-01</td>\n",
       "      <td>4.498740e-01</td>\n",
       "      <td>0.0</td>\n",
       "      <td>0.00</td>\n",
       "      <td>0.0</td>\n",
       "      <td>1.00</td>\n",
       "      <td>1.000000e+00</td>\n",
       "    </tr>\n",
       "    <tr>\n",
       "      <th>ID</th>\n",
       "      <td>7500.0</td>\n",
       "      <td>3.749500e+03</td>\n",
       "      <td>2.165208e+03</td>\n",
       "      <td>0.0</td>\n",
       "      <td>1874.75</td>\n",
       "      <td>3749.5</td>\n",
       "      <td>5624.25</td>\n",
       "      <td>7.499000e+03</td>\n",
       "    </tr>\n",
       "  </tbody>\n",
       "</table>\n",
       "</div>"
      ],
      "text/plain": [
       "                               count          mean           std       min  \\\n",
       "Annual Income                 5943.0  1.366392e+06  8.453392e+05  164597.0   \n",
       "Tax Liens                     7500.0  3.013333e-02  2.716035e-01       0.0   \n",
       "Number of Open Accounts       7500.0  1.113093e+01  4.908924e+00       2.0   \n",
       "Years of Credit History       7500.0  1.831747e+01  7.041946e+00       4.0   \n",
       "Maximum Open Credit           7500.0  9.451537e+05  1.602622e+07       0.0   \n",
       "Number of Credit Problems     7500.0  1.700000e-01  4.985978e-01       0.0   \n",
       "Months since last delinquent  3419.0  3.469260e+01  2.168881e+01       0.0   \n",
       "Bankruptcies                  7486.0  1.171520e-01  3.471917e-01       0.0   \n",
       "Current Loan Amount           7500.0  1.187318e+07  3.192612e+07   11242.0   \n",
       "Current Credit Balance        7500.0  2.898332e+05  3.178714e+05       0.0   \n",
       "Monthly Debt                  7500.0  1.831445e+04  1.192676e+04       0.0   \n",
       "Credit Score                  5943.0  1.151087e+03  1.604451e+03     585.0   \n",
       "Credit Default                7500.0  2.817333e-01  4.498740e-01       0.0   \n",
       "ID                            7500.0  3.749500e+03  2.165208e+03       0.0   \n",
       "\n",
       "                                    25%        50%         75%           max  \n",
       "Annual Income                 844341.00  1168386.0  1640137.00  1.014934e+07  \n",
       "Tax Liens                          0.00        0.0        0.00  7.000000e+00  \n",
       "Number of Open Accounts            8.00       10.0       14.00  4.300000e+01  \n",
       "Years of Credit History           13.50       17.0       21.80  5.770000e+01  \n",
       "Maximum Open Credit           279229.50   478159.0   793501.50  1.304726e+09  \n",
       "Number of Credit Problems          0.00        0.0        0.00  7.000000e+00  \n",
       "Months since last delinquent      16.00       32.0       50.00  1.180000e+02  \n",
       "Bankruptcies                       0.00        0.0        0.00  4.000000e+00  \n",
       "Current Loan Amount           180169.00   309573.0   519882.00  1.000000e+08  \n",
       "Current Credit Balance        114256.50   209323.0   360406.25  6.506797e+06  \n",
       "Monthly Debt                   10067.50    16076.5    23818.00  1.366790e+05  \n",
       "Credit Score                     711.00      731.0      743.00  7.510000e+03  \n",
       "Credit Default                     0.00        0.0        1.00  1.000000e+00  \n",
       "ID                              1874.75     3749.5     5624.25  7.499000e+03  "
      ]
     },
     "execution_count": 254,
     "metadata": {},
     "output_type": "execute_result"
    }
   ],
   "source": [
    "df.describe().T"
   ]
  },
  {
   "cell_type": "code",
   "execution_count": 255,
   "metadata": {},
   "outputs": [
    {
     "data": {
      "text/plain": [
       "0    5387\n",
       "1    2113\n",
       "Name: Credit Default, dtype: int64"
      ]
     },
     "execution_count": 255,
     "metadata": {},
     "output_type": "execute_result"
    }
   ],
   "source": [
    "# смотрим на целевую переменную\n",
    "\n",
    "df['Credit Default'].value_counts()"
   ]
  },
  {
   "cell_type": "markdown",
   "metadata": {},
   "source": [
    "## Пропуски <a name=\"nulls\"></a>\n",
    "\n",
    "[к оглавлению](#index)"
   ]
  },
  {
   "cell_type": "code",
   "execution_count": 256,
   "metadata": {},
   "outputs": [
    {
     "data": {
      "text/plain": [
       "Home Ownership                     0\n",
       "Annual Income                   1557\n",
       "Years in current job             371\n",
       "Tax Liens                          0\n",
       "Number of Open Accounts            0\n",
       "Years of Credit History            0\n",
       "Maximum Open Credit                0\n",
       "Number of Credit Problems          0\n",
       "Months since last delinquent    4081\n",
       "Bankruptcies                      14\n",
       "Purpose                            0\n",
       "Term                               0\n",
       "Current Loan Amount                0\n",
       "Current Credit Balance             0\n",
       "Monthly Debt                       0\n",
       "Credit Score                    1557\n",
       "Credit Default                     0\n",
       "ID                                 0\n",
       "dtype: int64"
      ]
     },
     "execution_count": 256,
     "metadata": {},
     "output_type": "execute_result"
    }
   ],
   "source": [
    "len(df) - df.count()"
   ]
  },
  {
   "cell_type": "code",
   "execution_count": 257,
   "metadata": {},
   "outputs": [
    {
     "data": {
      "text/plain": [
       "Home Ownership                     0\n",
       "Annual Income                    513\n",
       "Years in current job              86\n",
       "Tax Liens                          0\n",
       "Number of Open Accounts            0\n",
       "Years of Credit History            0\n",
       "Maximum Open Credit                0\n",
       "Number of Credit Problems          0\n",
       "Months since last delinquent    1358\n",
       "Bankruptcies                       3\n",
       "Purpose                            0\n",
       "Term                               0\n",
       "Current Loan Amount                0\n",
       "Current Credit Balance             0\n",
       "Monthly Debt                       0\n",
       "Credit Score                     513\n",
       "dtype: int64"
      ]
     },
     "execution_count": 257,
     "metadata": {},
     "output_type": "execute_result"
    }
   ],
   "source": [
    "len(df_test) - df_test.count()"
   ]
  },
  {
   "cell_type": "code",
   "execution_count": null,
   "metadata": {},
   "outputs": [],
   "source": []
  },
  {
   "cell_type": "markdown",
   "metadata": {},
   "source": [
    "## Служебные функции <a name=\"work\"></a>\n",
    "\n",
    "[к оглавлению](#index)"
   ]
  },
  {
   "cell_type": "code",
   "execution_count": 258,
   "metadata": {},
   "outputs": [],
   "source": [
    "# функция показывает корреляцию мжду двумя группами одного признака. \n",
    "# если результат больше 0.05 - можно объединять в один\n",
    "\n",
    "def corr_(val, x1, x2):\n",
    "    pay1_and_target_s = df.loc[df[val].isin([x1, x2]), ['ID', val, 'Credit Default']]#.sample(1000)\n",
    "    table = pay1_and_target_s.pivot_table(values='ID', index=val, columns='Credit Default', aggfunc='count')\n",
    "    chi2, p, dof, expected = chi2_contingency(table, correction=False)\n",
    "    print(p)"
   ]
  },
  {
   "cell_type": "code",
   "execution_count": null,
   "metadata": {},
   "outputs": [],
   "source": []
  },
  {
   "cell_type": "markdown",
   "metadata": {},
   "source": [
    "# Обработка данных"
   ]
  },
  {
   "cell_type": "markdown",
   "metadata": {},
   "source": [
    "### Home Ownership - домовладение <a name=\"1_hw\"></a>\n",
    "\n",
    "[к оглавлению](#index)"
   ]
  },
  {
   "cell_type": "code",
   "execution_count": 259,
   "metadata": {},
   "outputs": [
    {
     "data": {
      "text/plain": [
       "Home Mortgage    3637\n",
       "Rent             3204\n",
       "Own Home          647\n",
       "Have Mortgage      12\n",
       "Name: Home Ownership, dtype: int64"
      ]
     },
     "execution_count": 259,
     "metadata": {},
     "output_type": "execute_result"
    }
   ],
   "source": [
    "df['Home Ownership'].value_counts()"
   ]
  },
  {
   "cell_type": "code",
   "execution_count": 260,
   "metadata": {
    "scrolled": true
   },
   "outputs": [
    {
     "data": {
      "image/png": "[encoded data removed]",
      "text/plain": [
       "<Figure size 432x288 with 1 Axes>"
      ]
     },
     "metadata": {
      "needs_background": "light"
     },
     "output_type": "display_data"
    }
   ],
   "source": [
    "sns.countplot(x=\"Home Ownership\", hue='Credit Default', data=df)\n",
    "plt.show()"
   ]
  },
  {
   "cell_type": "code",
   "execution_count": 261,
   "metadata": {},
   "outputs": [],
   "source": [
    "# baseline: делим на категории 0,1,2,3\n",
    "    \n",
    "# df.loc[(df['Home Ownership'] == 'Home Mortgage'), 'Home Ownership'] = 0\n",
    "# df.loc[(df['Home Ownership'] == 'Rent'), 'Home Ownership'] = 1\n",
    "# df.loc[(df['Home Ownership'] == 'Own Home'), 'Home Ownership'] = 2\n",
    "# df.loc[(df['Home Ownership'] == 'Have Mortgage'), 'Home Ownership'] = 3\n",
    "\n",
    "\n",
    "# df_test.loc[(df_test['Home Ownership'] == 'Home Mortgage'), 'Home Ownership'] = 0\n",
    "# df_test.loc[(df_test['Home Ownership'] == 'Rent'), 'Home Ownership'] = 1\n",
    "# df_test.loc[(df_test['Home Ownership'] == 'Own Home'), 'Home Ownership'] = 2\n",
    "# df_test.loc[(df_test['Home Ownership'] == 'Have Mortgage'), 'Home Ownership'] = 3   "
   ]
  },
  {
   "cell_type": "code",
   "execution_count": 262,
   "metadata": {},
   "outputs": [],
   "source": [
    "# вариант 2: смотрим, как категории коррелируют между собой и объединяем 0+3 и 1+2\n",
    "\n",
    "# corr_('Home Ownership', 0,1)\n",
    "# corr_('Home Ownership', 0,2)\n",
    "# corr_('Home Ownership', 0,3)"
   ]
  },
  {
   "cell_type": "code",
   "execution_count": 263,
   "metadata": {},
   "outputs": [],
   "source": [
    "# df.loc[(df['Home Ownership'] == 3), 'Home Ownership'] = 0\n",
    "# df.loc[(df['Home Ownership'] == 2), 'Home Ownership'] = 1"
   ]
  },
  {
   "cell_type": "code",
   "execution_count": 264,
   "metadata": {},
   "outputs": [],
   "source": [
    "# sns.countplot(x=\"Home Ownership\", hue='Credit Default', data=df)\n",
    "# plt.show()"
   ]
  },
  {
   "cell_type": "code",
   "execution_count": 265,
   "metadata": {},
   "outputs": [],
   "source": [
    "# corr_('Home Ownership', 0,1)\n",
    "# corr_('Home Ownership', 0,2)\n",
    "# corr_('Home Ownership', 0,3)"
   ]
  },
  {
   "cell_type": "code",
   "execution_count": 266,
   "metadata": {},
   "outputs": [],
   "source": [
    "# вариант 3: пробуем делить как dummies...\n",
    "\n",
    "df = pd.concat([df, pd.get_dummies(df['Home Ownership'], prefix='Home Ownership')], axis=1)\n",
    "df_test = pd.concat([df_test, pd.get_dummies(df_test['Home Ownership'], prefix='Home Ownership')], axis=1)"
   ]
  },
  {
   "cell_type": "code",
   "execution_count": null,
   "metadata": {},
   "outputs": [],
   "source": []
  },
  {
   "cell_type": "markdown",
   "metadata": {},
   "source": [
    "### Annual Income - годовой доход <a name=\"2_ai\"></a>\n",
    "\n",
    "`null заменил на 0 - из всех испробованных мной вариантов этот дамет максимальный реультат...`\n",
    "\n",
    "[к оглавлению](#index)"
   ]
  },
  {
   "cell_type": "code",
   "execution_count": 267,
   "metadata": {},
   "outputs": [
    {
     "data": {
      "text/plain": [
       "count    5.943000e+03\n",
       "mean     1.366392e+06\n",
       "std      8.453392e+05\n",
       "min      1.645970e+05\n",
       "25%      8.443410e+05\n",
       "50%      1.168386e+06\n",
       "75%      1.640137e+06\n",
       "max      1.014934e+07\n",
       "Name: Annual Income, dtype: float64"
      ]
     },
     "execution_count": 267,
     "metadata": {},
     "output_type": "execute_result"
    }
   ],
   "source": [
    "df['Annual Income'].describe()"
   ]
  },
  {
   "cell_type": "code",
   "execution_count": 268,
   "metadata": {},
   "outputs": [
    {
     "data": {
      "text/plain": [
       "<matplotlib.axes._subplots.AxesSubplot at 0x1576173dc70>"
      ]
     },
     "execution_count": 268,
     "metadata": {},
     "output_type": "execute_result"
    },
    {
     "data": {
      "image/png": "[encoded data removed]",
      "text/plain": [
       "<Figure size 432x288 with 1 Axes>"
      ]
     },
     "metadata": {
      "needs_background": "light"
     },
     "output_type": "display_data"
    }
   ],
   "source": [
    "df['Annual Income'].hist()"
   ]
  },
  {
   "cell_type": "code",
   "execution_count": 269,
   "metadata": {},
   "outputs": [
    {
     "data": {
      "text/plain": [
       "<matplotlib.axes._subplots.AxesSubplot at 0x1575f8675e0>"
      ]
     },
     "execution_count": 269,
     "metadata": {},
     "output_type": "execute_result"
    },
    {
     "data": {
      "image/png": "[encoded data removed]",
      "text/plain": [
       "<Figure size 432x288 with 1 Axes>"
      ]
     },
     "metadata": {
      "needs_background": "light"
     },
     "output_type": "display_data"
    }
   ],
   "source": [
    "df_test['Annual Income'].hist()"
   ]
  },
  {
   "cell_type": "code",
   "execution_count": 270,
   "metadata": {},
   "outputs": [],
   "source": [
    "# baseline: NULL меняем на 0 и все...\n",
    "\n",
    "df.loc[df['Annual Income'].isnull(), 'Annual Income'] = 0\n",
    "df_test.loc[df_test['Annual Income'].isnull(), 'Annual Income'] = 0\n",
    "\n",
    "# df.loc[df['Annual Income'].isnull(), 'Annual Income'] = df['Annual Income'].median()\n",
    "# df_test.loc[df_test['Annual Income'].isnull(), 'Annual Income'] = df_test['Annual Income'].median()\n",
    "\n",
    "# df.loc[df['Annual Income'].isnull(), 'Annual Income'] = df['Annual Income'].mian()\n",
    "# df_test.loc[df_test['Annual Income'].isnull(), 'Annual Income'] = df_test['Annual Income'].mian()\n",
    "\n",
    "# вариант 2: делим на категории от 0 до 4 (+ NULL)\n",
    "\n",
    "# df.loc[(df['Annual Income'] >= 0) & (df['Annual Income'] < 700000), 'Annual Income'] = 0\n",
    "# df.loc[(df['Annual Income'] >= 700000)  & (df['Annual Income'] < 1000000), 'Annual Income'] = 1\n",
    "# df.loc[(df['Annual Income'] >= 1000000) & (df['Annual Income'] < 1300000), 'Annual Income'] = 2\n",
    "# df.loc[(df['Annual Income'] >= 1300000) & (df['Annual Income'] < 1800000), 'Annual Income'] = 3\n",
    "# df.loc[(df['Annual Income'] >= 1800000), 'Annual Income'] = 4\n",
    "\n",
    "# df['Annual Income NULL'] = df['Annual Income'].isnull()\n",
    "# df.loc[df['Annual Income'].isnull(), 'Annual Income'] = 99999999\n",
    "# df.loc[df['Annual Income'].isnull(), 'Annual Income'] = 5\n",
    "\n",
    "# df_test.loc[(df_test['Annual Income'] >= 0) & (df_test['Annual Income'] < 700000), 'Annual Income'] = 0\n",
    "# df_test.loc[(df_test['Annual Income'] >= 700000)  & (df_test['Annual Income'] < 1000000), 'Annual Income'] = 1\n",
    "# df_test.loc[(df_test['Annual Income'] >= 1000000) & (df_test['Annual Income'] < 1300000), 'Annual Income'] = 2\n",
    "# df_test.loc[(df_test['Annual Income'] >= 1300000) & (df_test['Annual Income'] < 1800000), 'Annual Income'] = 3\n",
    "# df_test.loc[(df_test['Annual Income'] >= 1800000), 'Annual Income'] = 4\n",
    "\n",
    "# df_test['Annual Income NULL'] = df_test['Annual Income'].isnull()\n",
    "# df_test.loc[df_test['Annual Income'].isnull(), 'Annual Income'] = 99999999\n",
    "# df_test.loc[df_test['Annual Income'].isnull(), 'Annual Income'] = 0"
   ]
  },
  {
   "cell_type": "code",
   "execution_count": 271,
   "metadata": {},
   "outputs": [],
   "source": [
    "# sns.countplot(x=\"Annual Income\", hue='Credit Default', data=df)\n",
    "# plt.show()"
   ]
  },
  {
   "cell_type": "code",
   "execution_count": 272,
   "metadata": {},
   "outputs": [],
   "source": [
    "# corr_(\"Annual Income\", 0,1)\n",
    "# corr_(\"Annual Income\", 0,2)\n",
    "# corr_(\"Annual Income\", 0,3)\n",
    "# corr_(\"Annual Income\", 0,4)\n",
    "# corr_(\"Annual Income\", 0,5)\n",
    "\n",
    "# corr_(\"Annual Income\", 2,3)\n",
    "# corr_(\"Annual Income\", 3,4)\n",
    "# corr_(\"Annual Income\", 4,5)"
   ]
  },
  {
   "cell_type": "code",
   "execution_count": null,
   "metadata": {},
   "outputs": [],
   "source": []
  },
  {
   "cell_type": "code",
   "execution_count": null,
   "metadata": {},
   "outputs": [],
   "source": []
  },
  {
   "cell_type": "markdown",
   "metadata": {},
   "source": [
    "### Years in current job - количество лет на текущем месте работы <a name=\"3_yicj\"></a>\n",
    "\n",
    "[к оглавлению](#index)"
   ]
  },
  {
   "cell_type": "code",
   "execution_count": 273,
   "metadata": {},
   "outputs": [],
   "source": [
    "# df['Years in current job'].value_counts()"
   ]
  },
  {
   "cell_type": "code",
   "execution_count": 274,
   "metadata": {},
   "outputs": [
    {
     "data": {
      "image/png": "[encoded data removed]",
      "text/plain": [
       "<Figure size 432x288 with 1 Axes>"
      ]
     },
     "metadata": {
      "needs_background": "light"
     },
     "output_type": "display_data"
    }
   ],
   "source": [
    "sns.countplot(x=\"Years in current job\", data=df)\n",
    "plt.show()"
   ]
  },
  {
   "cell_type": "code",
   "execution_count": 275,
   "metadata": {},
   "outputs": [],
   "source": [
    "df['Years in current job'] = df['Years in current job'].map({\n",
    "                                                            '10+ years':'10', \n",
    "                                                            '9 years':'9',\n",
    "                                                            '8 years':'8',\n",
    "                                                            '7 years':'7',\n",
    "                                                            '6 years':'6',\n",
    "                                                            '5 years':'5',\n",
    "                                                            '4 years':'4',\n",
    "                                                            '3 years':'3',\n",
    "                                                            '2 years':'2',\n",
    "                                                            '1 year':'1',\n",
    "                                                            '< 1 year':'0'\n",
    "                                                            }).astype(float)\n",
    "\n",
    "df.loc[df['Years in current job'].isnull(), 'Years in current job'] = 11\n",
    "\n",
    "\n",
    "\n",
    "df_test['Years in current job'] = df_test['Years in current job'].map({\n",
    "                                                            '10+ years':'10', \n",
    "                                                            '9 years':'9',\n",
    "                                                            '8 years':'8',\n",
    "                                                            '7 years':'7',\n",
    "                                                            '6 years':'6',\n",
    "                                                            '5 years':'5',\n",
    "                                                            '4 years':'4',\n",
    "                                                            '3 years':'3',\n",
    "                                                            '2 years':'2',\n",
    "                                                            '1 year':'1',\n",
    "                                                            '< 1 year':'0'\n",
    "                                                            }).astype(float)\n",
    "\n",
    "df_test.loc[df_test['Years in current job'].isnull(), 'Years in current job'] = 11"
   ]
  },
  {
   "cell_type": "code",
   "execution_count": 276,
   "metadata": {},
   "outputs": [
    {
     "data": {
      "image/png": "[encoded data removed]",
      "text/plain": [
       "<Figure size 432x288 with 1 Axes>"
      ]
     },
     "metadata": {
      "needs_background": "light"
     },
     "output_type": "display_data"
    }
   ],
   "source": [
    "sns.countplot(x=\"Years in current job\", hue='Credit Default', data=df)\n",
    "plt.show()"
   ]
  },
  {
   "cell_type": "code",
   "execution_count": 277,
   "metadata": {},
   "outputs": [],
   "source": [
    "# corr_('Years in current job',9,1)\n",
    "# corr_('Years in current job',9,2)\n",
    "# corr_('Years in current job',9,3)\n",
    "# corr_('Years in current job',9,4)\n",
    "# corr_('Years in current job',9,5)\n",
    "# corr_('Years in current job',9,6)\n",
    "# corr_('Years in current job',9,7)\n",
    "# corr_('Years in current job',9,8)\n",
    "# corr_('Years in current job',10,9)\n",
    "# corr_('Years in current job',11,10)\n",
    "# corr_('Years in current job',0,11)"
   ]
  },
  {
   "cell_type": "code",
   "execution_count": 278,
   "metadata": {},
   "outputs": [],
   "source": [
    "# !!! ВАРИАНТ 2. поскольку все коррелируются, то делим вообще на 2 категории...\n",
    "\n",
    "# df.loc[(df['Years in current job'] < 11), 'Years in current job'] = 1\n",
    "# df.loc[(df['Years in current job'] == 11), 'Years in current job'] = 0"
   ]
  },
  {
   "cell_type": "code",
   "execution_count": null,
   "metadata": {},
   "outputs": [],
   "source": []
  },
  {
   "cell_type": "code",
   "execution_count": null,
   "metadata": {},
   "outputs": [],
   "source": []
  },
  {
   "cell_type": "markdown",
   "metadata": {},
   "source": [
    "### Tax Liens - налоговые обременения <a name=\"4_tl\"></a>\n",
    "\n",
    "[к оглавлению](#index)"
   ]
  },
  {
   "cell_type": "code",
   "execution_count": 279,
   "metadata": {},
   "outputs": [
    {
     "data": {
      "text/plain": [
       "0.0    7366\n",
       "1.0      83\n",
       "2.0      30\n",
       "3.0      10\n",
       "4.0       6\n",
       "5.0       2\n",
       "6.0       2\n",
       "7.0       1\n",
       "Name: Tax Liens, dtype: int64"
      ]
     },
     "execution_count": 279,
     "metadata": {},
     "output_type": "execute_result"
    }
   ],
   "source": [
    "df['Tax Liens'].value_counts()"
   ]
  },
  {
   "cell_type": "code",
   "execution_count": 280,
   "metadata": {},
   "outputs": [],
   "source": [
    "# df['Tax Liens'].hist()"
   ]
  },
  {
   "cell_type": "code",
   "execution_count": 281,
   "metadata": {},
   "outputs": [],
   "source": [
    "# df_test['Tax Liens'].hist()"
   ]
  },
  {
   "cell_type": "code",
   "execution_count": 282,
   "metadata": {},
   "outputs": [],
   "source": [
    "# df.loc[(df['Tax Liens'] > 0), 'Tax Liens'] = 1"
   ]
  },
  {
   "cell_type": "code",
   "execution_count": 283,
   "metadata": {},
   "outputs": [],
   "source": [
    "# df['Tax Liens'].value_counts()"
   ]
  },
  {
   "cell_type": "code",
   "execution_count": 284,
   "metadata": {},
   "outputs": [],
   "source": [
    "# sns.countplot(x=\"Tax Liens\", hue='Credit Default', data=df)\n",
    "# plt.show()"
   ]
  },
  {
   "cell_type": "code",
   "execution_count": 285,
   "metadata": {},
   "outputs": [],
   "source": [
    "# df['No Tax Liens'] = (df['Tax Liens'] == 0)"
   ]
  },
  {
   "cell_type": "code",
   "execution_count": 286,
   "metadata": {},
   "outputs": [],
   "source": [
    "# df['No Tax Liens'].value_counts()"
   ]
  },
  {
   "cell_type": "code",
   "execution_count": 287,
   "metadata": {},
   "outputs": [],
   "source": [
    "# corr_('Tax Liens',0,1)"
   ]
  },
  {
   "cell_type": "code",
   "execution_count": null,
   "metadata": {},
   "outputs": [],
   "source": []
  },
  {
   "cell_type": "markdown",
   "metadata": {},
   "source": [
    "### Number of Open Accounts - количество открытых счетов <a name=\"5_nooa\"></a>\n",
    "\n",
    "[к оглавлению](#index)"
   ]
  },
  {
   "cell_type": "code",
   "execution_count": 288,
   "metadata": {},
   "outputs": [],
   "source": [
    "# df['Number of Open Accounts'].value_counts()"
   ]
  },
  {
   "cell_type": "code",
   "execution_count": 289,
   "metadata": {},
   "outputs": [],
   "source": [
    "# df['Number of Open Accounts'].describe()"
   ]
  },
  {
   "cell_type": "code",
   "execution_count": 290,
   "metadata": {},
   "outputs": [],
   "source": [
    "# df_test['Number of Open Accounts'].describe()"
   ]
  },
  {
   "cell_type": "code",
   "execution_count": 291,
   "metadata": {},
   "outputs": [],
   "source": [
    "# df['Number of Open Accounts'].hist()\n",
    "\n",
    "# plt.figure(figsize=(20, 8))\n",
    "# sns.countplot(x=\"Number of Open Accounts\", hue='Credit Default', data=df)\n",
    "# plt.show()"
   ]
  },
  {
   "cell_type": "code",
   "execution_count": 292,
   "metadata": {},
   "outputs": [],
   "source": [
    "# ВАРИАНТ 2 - вообще ничего не делать\n",
    "\n",
    "# df.loc[(df['Number of Open Accounts'] >= 22), 'Number of Open Accounts'] = 4\n",
    "\n",
    "# df.loc[(df['Number of Open Accounts'] < 7),'Number of Open Accounts'] = 0\n",
    "# df.loc[(df['Number of Open Accounts'] >= 7) & (df['Number of Open Accounts'] < 9),'Number of Open Accounts'] = 1\n",
    "# df.loc[(df['Number of Open Accounts'] >= 9) & (df['Number of Open Accounts'] < 15),'Number of Open Accounts'] = 2\n",
    "# df.loc[(df['Number of Open Accounts'] >= 15) & (df['Number of Open Accounts'] < 22),'Number of Open Accounts'] = 3\n",
    "# df.loc[(df['Number of Open Accounts'] >= 11),'Number of Open Accounts'] = 4\n"
   ]
  },
  {
   "cell_type": "code",
   "execution_count": 293,
   "metadata": {},
   "outputs": [],
   "source": [
    "# sns.countplot(x=\"Number of Open Accounts\", hue='Credit Default', data=df)\n",
    "# plt.show()"
   ]
  },
  {
   "cell_type": "code",
   "execution_count": 294,
   "metadata": {},
   "outputs": [],
   "source": [
    "# corr_('Number of Open Accounts',0,1)\n",
    "# corr_('Number of Open Accounts',0,2)\n",
    "# corr_('Number of Open Accounts',0,3)\n",
    "\n",
    "# corr_('Number of Open Accounts',1,2)\n",
    "# corr_('Number of Open Accounts',1,3)\n",
    "\n",
    "# corr_('Number of Open Accounts',2,3)"
   ]
  },
  {
   "cell_type": "code",
   "execution_count": null,
   "metadata": {},
   "outputs": [],
   "source": []
  },
  {
   "cell_type": "markdown",
   "metadata": {},
   "source": [
    "### Years of Credit History - коичество лет кредитной истории <a name=\"6_yoch\"></a>\n",
    "\n",
    "[к оглавлению](#index)"
   ]
  },
  {
   "cell_type": "code",
   "execution_count": 295,
   "metadata": {},
   "outputs": [
    {
     "data": {
      "text/plain": [
       "15.0    104\n",
       "16.0     99\n",
       "16.5     91\n",
       "17.0     86\n",
       "17.5     83\n",
       "       ... \n",
       "43.2      1\n",
       "4.9       1\n",
       "39.5      1\n",
       "42.4      1\n",
       "39.8      1\n",
       "Name: Years of Credit History, Length: 408, dtype: int64"
      ]
     },
     "execution_count": 295,
     "metadata": {},
     "output_type": "execute_result"
    }
   ],
   "source": [
    "df['Years of Credit History'].value_counts()"
   ]
  },
  {
   "cell_type": "code",
   "execution_count": 296,
   "metadata": {},
   "outputs": [
    {
     "data": {
      "text/plain": [
       "<matplotlib.axes._subplots.AxesSubplot at 0x1576170a4c0>"
      ]
     },
     "execution_count": 296,
     "metadata": {},
     "output_type": "execute_result"
    },
    {
     "data": {
      "image/png": "[encoded data removed]",
      "text/plain": [
       "<Figure size 432x288 with 1 Axes>"
      ]
     },
     "metadata": {
      "needs_background": "light"
     },
     "output_type": "display_data"
    }
   ],
   "source": [
    "df['Years of Credit History'].hist()"
   ]
  },
  {
   "cell_type": "code",
   "execution_count": 297,
   "metadata": {},
   "outputs": [
    {
     "data": {
      "text/plain": [
       "<matplotlib.axes._subplots.AxesSubplot at 0x1576170a820>"
      ]
     },
     "execution_count": 297,
     "metadata": {},
     "output_type": "execute_result"
    },
    {
     "data": {
      "image/png": "[encoded data removed]",
      "text/plain": [
       "<Figure size 432x288 with 1 Axes>"
      ]
     },
     "metadata": {
      "needs_background": "light"
     },
     "output_type": "display_data"
    }
   ],
   "source": [
    "df_test['Years of Credit History'].hist()"
   ]
  },
  {
   "cell_type": "code",
   "execution_count": 298,
   "metadata": {},
   "outputs": [],
   "source": [
    "# df.loc[(df['Years of Credit History'] < 7),'Years of Credit History'] = 0\n",
    "# df.loc[(df['Years of Credit History'] >= 7) & (df['Years of Credit History'] < 10),'Years of Credit History'] = 1\n",
    "# df.loc[(df['Years of Credit History'] >= 10) & (df['Years of Credit History'] < 20),'Years of Credit History'] = 2\n",
    "# df.loc[(df['Years of Credit History'] >= 20) & (df['Years of Credit History'] < 30),'Years of Credit History'] = 3\n",
    "# df.loc[(df['Years of Credit History'] >= 30),'Years of Credit History'] = 4"
   ]
  },
  {
   "cell_type": "code",
   "execution_count": 299,
   "metadata": {},
   "outputs": [],
   "source": [
    "# sns.countplot(x=\"Years of Credit History\", hue='Credit Default', data=df)\n",
    "# plt.show()"
   ]
  },
  {
   "cell_type": "code",
   "execution_count": 300,
   "metadata": {},
   "outputs": [],
   "source": [
    "# df.loc[(df['Years of Credit History'] > 40), 'Years of Credit History'] = 40\n",
    "\n",
    "# на ТЕСТЕ\n",
    "# df_test.loc[(df_test['Years of Credit History'] > 40), 'Years of Credit History'] = 40"
   ]
  },
  {
   "cell_type": "code",
   "execution_count": 301,
   "metadata": {},
   "outputs": [],
   "source": [
    "# corr_('Years of Credit History',0,1)\n",
    "# corr_('Years of Credit History',0,2)\n",
    "# corr_('Years of Credit History',0,3)\n",
    "# corr_('Years of Credit History',0,4)\n",
    "\n",
    "# corr_('Years of Credit History',1,2)\n",
    "# corr_('Years of Credit History',1,3)\n",
    "# corr_('Years of Credit History',1,4)\n",
    "\n",
    "# corr_('Years of Credit History',2,3)\n",
    "# corr_('Years of Credit History',2,4)\n",
    "\n",
    "# corr_('Years of Credit History',3,4)"
   ]
  },
  {
   "cell_type": "code",
   "execution_count": null,
   "metadata": {},
   "outputs": [],
   "source": []
  },
  {
   "cell_type": "markdown",
   "metadata": {},
   "source": [
    "### Maximum Open Credit - наибольший открытый кредит <a name=\"7_moc\"></a>\n",
    "\n",
    "[к оглавлению](#index)"
   ]
  },
  {
   "cell_type": "code",
   "execution_count": 302,
   "metadata": {},
   "outputs": [],
   "source": [
    "# df['Maximum Open Credit'].value_counts()"
   ]
  },
  {
   "cell_type": "code",
   "execution_count": 303,
   "metadata": {},
   "outputs": [],
   "source": [
    "# df['Maximum Open Credit'].describe()"
   ]
  },
  {
   "cell_type": "code",
   "execution_count": 304,
   "metadata": {},
   "outputs": [],
   "source": [
    "# df_test['Maximum Open Credit'].describe()"
   ]
  },
  {
   "cell_type": "code",
   "execution_count": 305,
   "metadata": {},
   "outputs": [],
   "source": [
    "# df['Maximum Open Credit'].hist()"
   ]
  },
  {
   "cell_type": "code",
   "execution_count": 306,
   "metadata": {},
   "outputs": [],
   "source": [
    "# df_test['Maximum Open Credit'].hist()"
   ]
  },
  {
   "cell_type": "code",
   "execution_count": 307,
   "metadata": {},
   "outputs": [],
   "source": [
    "# df.loc[(df['Maximum Open Credit'] < 800000), 'Maximum Open Credit'] = 0\n",
    "# df.loc[(df['Maximum Open Credit'] >= 200000) & (df['Maximum Open Credit'] < 400000), 'Maximum Open Credit'] = 1\n",
    "# df.loc[(df['Maximum Open Credit'] >= 400000) & (df['Maximum Open Credit'] < 600000), 'Maximum Open Credit'] = 2\n",
    "# df.loc[(df['Maximum Open Credit'] >= 600000) & (df['Maximum Open Credit'] < 800000), 'Maximum Open Credit'] = 3\n",
    "# df.loc[(df['Maximum Open Credit'] >= 800000) & (df['Maximum Open Credit'] < 1000000), 'Maximum Open Credit'] = 4\n",
    "# df.loc[(df['Maximum Open Credit'] >= 800000), 'Maximum Open Credit'] = 1\n",
    "\n",
    "\n",
    "# на ТЕСТЕ\n",
    "# df_test.loc[(df_test['Maximum Open Credit'] < 200000), 'Maximum Open Credit'] = 0\n",
    "# df_test.loc[(df_test['Maximum Open Credit'] >= 200000) & (df_test['Maximum Open Credit'] < 400000), 'Maximum Open Credit'] = 1\n",
    "# df_test.loc[(df_test['Maximum Open Credit'] >= 400000) & (df_test['Maximum Open Credit'] < 600000), 'Maximum Open Credit'] = 2\n",
    "# df_test.loc[(df_test['Maximum Open Credit'] >= 600000) & (df_test['Maximum Open Credit'] < 800000), 'Maximum Open Credit'] = 3\n",
    "# df_test.loc[(df_test['Maximum Open Credit'] >= 800000) & (df_test['Maximum Open Credit'] < 1000000), 'Maximum Open Credit'] = 4\n",
    "# df_test.loc[(df_test['Maximum Open Credit'] >= 1000000), 'Maximum Open Credit'] = 5"
   ]
  },
  {
   "cell_type": "code",
   "execution_count": 308,
   "metadata": {},
   "outputs": [],
   "source": [
    "# sns.countplot(x=\"Maximum Open Credit\", hue='Credit Default', data=df)\n",
    "# plt.show()"
   ]
  },
  {
   "cell_type": "code",
   "execution_count": 309,
   "metadata": {},
   "outputs": [],
   "source": [
    "# corr_('Maximum Open Credit', 0, 1)\n",
    "\n",
    "# corr_('Maximum Open Credit', 0, 2)\n",
    "# corr_('Maximum Open Credit', 0, 3)\n",
    "# corr_('Maximum Open Credit', 0, 4)\n",
    "# corr_('Maximum Open Credit', 0, 5)\n",
    "\n",
    "# corr_('Maximum Open Credit', 1, 2)\n",
    "# corr_('Maximum Open Credit', 1, 3)\n",
    "# corr_('Maximum Open Credit', 1, 4)\n",
    "# corr_('Maximum Open Credit', 1, 5)\n",
    "\n",
    "# corr_('Maximum Open Credit', 4, 5)"
   ]
  },
  {
   "cell_type": "code",
   "execution_count": null,
   "metadata": {},
   "outputs": [],
   "source": []
  },
  {
   "cell_type": "markdown",
   "metadata": {},
   "source": [
    "### Number of Credit Problems - количество проблем с кредитом <a name=\"8_nocp\"></a>\n",
    "\n",
    "[к оглавлению](#index)"
   ]
  },
  {
   "cell_type": "code",
   "execution_count": 310,
   "metadata": {},
   "outputs": [
    {
     "data": {
      "text/plain": [
       "0.0    6469\n",
       "1.0     882\n",
       "2.0      93\n",
       "3.0      35\n",
       "4.0       9\n",
       "5.0       7\n",
       "6.0       4\n",
       "7.0       1\n",
       "Name: Number of Credit Problems, dtype: int64"
      ]
     },
     "execution_count": 310,
     "metadata": {},
     "output_type": "execute_result"
    }
   ],
   "source": [
    "df['Number of Credit Problems'].value_counts()"
   ]
  },
  {
   "cell_type": "code",
   "execution_count": 311,
   "metadata": {},
   "outputs": [],
   "source": [
    "# sns.countplot(x=\"Number of Credit Problems\", data=df)\n",
    "# plt.show()"
   ]
  },
  {
   "cell_type": "code",
   "execution_count": 312,
   "metadata": {},
   "outputs": [],
   "source": [
    "# sns.countplot(x=\"Number of Credit Problems\", data=df_test)\n",
    "# plt.show()"
   ]
  },
  {
   "cell_type": "code",
   "execution_count": 313,
   "metadata": {},
   "outputs": [],
   "source": [
    "# df.loc[(df['Number of Credit Problems'] > 0), 'Number of Credit Problems'] = 1"
   ]
  },
  {
   "cell_type": "code",
   "execution_count": 314,
   "metadata": {},
   "outputs": [],
   "source": [
    "# sns.countplot(x=\"Number of Credit Problems\", hue='Credit Default', data=df)\n",
    "# sns.countplot(x=\"Number of Credit Problems\", hue='Bankruptcies', data=df)\n",
    "# plt.show()"
   ]
  },
  {
   "cell_type": "code",
   "execution_count": 315,
   "metadata": {},
   "outputs": [],
   "source": [
    "# corr_('Number of Credit Problems', 0 , 1)\n",
    "# corr_('Number of Credit Problems', 0 , 2)\n",
    "\n",
    "# corr_('Number of Credit Problems', 1 , 2)"
   ]
  },
  {
   "cell_type": "code",
   "execution_count": null,
   "metadata": {},
   "outputs": [],
   "source": []
  },
  {
   "cell_type": "markdown",
   "metadata": {},
   "source": [
    "### Months since last delinquent - количество месяцев с последней просрочки кредита <a name=9_msld>\n",
    "\n",
    "`пока не трогаю. далее заполняю на основе других столцов`\n",
    "    \n",
    "[к оглавлению](#index)"
   ]
  },
  {
   "cell_type": "code",
   "execution_count": 316,
   "metadata": {},
   "outputs": [],
   "source": [
    "# df['Months since last delinquent'].describe()"
   ]
  },
  {
   "cell_type": "code",
   "execution_count": 317,
   "metadata": {},
   "outputs": [],
   "source": [
    "# df['Months since last delinquent'].hist()"
   ]
  },
  {
   "cell_type": "code",
   "execution_count": 318,
   "metadata": {},
   "outputs": [],
   "source": [
    "# df_test['Months since last delinquent'].hist()"
   ]
  },
  {
   "cell_type": "code",
   "execution_count": 319,
   "metadata": {},
   "outputs": [],
   "source": [
    "# sns.countplot(x=\"Months since last delinquent\", hue='Credit Default', data=df)\n",
    "# plt.show()"
   ]
  },
  {
   "cell_type": "code",
   "execution_count": 320,
   "metadata": {},
   "outputs": [],
   "source": [
    "# baseline. Null заменяем на 0 + выделяем в ОТДЕЛЬНЫЙ ПРИЗНАК\n",
    "\n",
    "# df['Months since last delinquent NULL'] = df['Months since last delinquent'].isnull()\n",
    "# df.loc[df['Months since last delinquent'].isnull(), 'Months since last delinquent'] = 0\n",
    "\n",
    "# df_test['Months since last delinquent NULL'] = df_test['Months since last delinquent'].isnull()\n",
    "# df_test.loc[df_test['Months since last delinquent'].isnull(), 'Months since last delinquent'] = 0\n",
    "\n",
    "# -------------------------\n",
    "\n",
    "# df.loc[(df['Months since last delinquent'] >= 0), 'Months since last delinquent'] = 0\n",
    "# df.loc[df['Months since last delinquent'].isnull(), 'Months since last delinquent'] = 1\n",
    "\n",
    "# df_test.loc[(df_test['Months since last delinquent'] >= 0), 'Months since last delinquent'] = 0\n",
    "# df_test.loc[df_test['Months since last delinquent'].isnull(), 'Months since last delinquent'] = 1\n",
    "\n",
    "\n",
    "# вариант 2\n",
    "\n",
    "# df.loc[df['Months since last delinquent'].isnull(), 'Months since last delinquent'] = df['Months since last delinquent'].median()\n",
    "# df.loc[df['Months since last delinquent'].isnull(), 'Months since last delinquent'] = df['Months since last delinquent'].mean()\n",
    "# df.loc[(df['Months since last delinquent'] > 50), 'Months since last delinquent'] = 50\n",
    "\n",
    "# df.loc[(df['Months since last delinquent'] == 0), 'Months since last delinquent'] = 0\n",
    "# df.loc[(df['Months since last delinquent'] >= 0) & (df['Months since last delinquent'] < 12), 'Months since last delinquent'] = 0\n",
    "# df.loc[(df['Months since last delinquent'] >= 12) & (df['Months since last delinquent'] < 24), 'Months since last delinquent'] = 1\n",
    "# df.loc[(df['Months since last delinquent'] >= 24) & (df['Months since last delinquent'] < 36), 'Months since last delinquent'] = 2\n",
    "# df.loc[(df['Months since last delinquent'] >= 36) & (df['Months since last delinquent'] < 48), 'Months since last delinquent'] = 3\n",
    "# df.loc[(df['Months since last delinquent'] >= 48), 'Months since last delinquent'] = 4\n",
    "# df.loc[df['Months since last delinquent'].isnull(), 'Months since last delinquent'] = 5\n",
    "\n",
    "# df_test.loc[(df_test['Months since last delinquent'] == 0), 'Months since last delinquent'] = 0\n",
    "# df_test.loc[(df_test['Months since last delinquent'] >= 0) & (df_test['Months since last delinquent'] < 12), 'Months since last delinquent'] = 0\n",
    "# df_test.loc[(df_test['Months since last delinquent'] >= 12) & (df_test['Months since last delinquent'] < 24), 'Months since last delinquent'] = 1\n",
    "# df_test.loc[(df_test['Months since last delinquent'] >= 24) & (df_test['Months since last delinquent'] < 36), 'Months since last delinquent'] = 2\n",
    "# df_test.loc[(df_test['Months since last delinquent'] >= 36) & (df_test['Months since last delinquent'] < 48), 'Months since last delinquent'] = 3\n",
    "# df_test.loc[(df_test['Months since last delinquent'] >= 48), 'Months since last delinquent'] = 4\n",
    "# df_test.loc[df_test['Months since last delinquent'].isnull(), 'Months since last delinquent'] = 5"
   ]
  },
  {
   "cell_type": "code",
   "execution_count": 321,
   "metadata": {},
   "outputs": [],
   "source": [
    "# sns.countplot(x=\"Months since last delinquent\", hue='Credit Default', data=df)\n",
    "# plt.show()"
   ]
  },
  {
   "cell_type": "code",
   "execution_count": 322,
   "metadata": {},
   "outputs": [],
   "source": [
    "# sns.countplot(x=\"Months since last delinquent\", data=df_test)\n",
    "# plt.show()"
   ]
  },
  {
   "cell_type": "code",
   "execution_count": 323,
   "metadata": {},
   "outputs": [],
   "source": [
    "# corr_('Months since last delinquent', 0,1)\n",
    "# corr_('Months since last delinquent', 1,2)\n",
    "# corr_('Months since last delinquent', 1,3)\n",
    "# corr_('Months since last delinquent', 1,4)\n",
    "# corr_('Months since last delinquent', 1,5)\n",
    "\n",
    "# corr_('Months since last delinquent', 1,2)\n",
    "# corr_('Months since last delinquent', 1,3)\n",
    "# corr_('Months since last delinquent', 1,4)"
   ]
  },
  {
   "cell_type": "code",
   "execution_count": null,
   "metadata": {},
   "outputs": [],
   "source": []
  },
  {
   "cell_type": "markdown",
   "metadata": {},
   "source": [
    "### Bankruptcies - банкротства <a name=10_b>\n",
    "\n",
    "[к оглавлению](#index)"
   ]
  },
  {
   "cell_type": "code",
   "execution_count": 324,
   "metadata": {},
   "outputs": [
    {
     "data": {
      "text/plain": [
       "0.0    6660\n",
       "1.0     786\n",
       "2.0      31\n",
       "3.0       7\n",
       "4.0       2\n",
       "Name: Bankruptcies, dtype: int64"
      ]
     },
     "execution_count": 324,
     "metadata": {},
     "output_type": "execute_result"
    }
   ],
   "source": [
    "df['Bankruptcies'].value_counts()"
   ]
  },
  {
   "cell_type": "code",
   "execution_count": 325,
   "metadata": {},
   "outputs": [
    {
     "data": {
      "text/plain": [
       "<matplotlib.axes._subplots.AxesSubplot at 0x157615ebd00>"
      ]
     },
     "execution_count": 325,
     "metadata": {},
     "output_type": "execute_result"
    },
    {
     "data": {
      "image/png": "[encoded data removed]",
      "text/plain": [
       "<Figure size 432x288 with 1 Axes>"
      ]
     },
     "metadata": {
      "needs_background": "light"
     },
     "output_type": "display_data"
    }
   ],
   "source": [
    "df['Bankruptcies'].hist()"
   ]
  },
  {
   "cell_type": "code",
   "execution_count": 326,
   "metadata": {},
   "outputs": [],
   "source": [
    "df.loc[df['Bankruptcies'].isnull(), 'Bankruptcies'] = 0\n",
    "# df.loc[(df['Bankruptcies'] > 0), 'Bankruptcies'] = 1\n",
    "\n",
    "df_test.loc[df_test['Bankruptcies'].isnull(), 'Bankruptcies'] = 0"
   ]
  },
  {
   "cell_type": "code",
   "execution_count": 327,
   "metadata": {},
   "outputs": [],
   "source": [
    "# sns.countplot(x=\"Bankruptcies\", hue='Credit Default', data=df)\n",
    "# plt.show()"
   ]
  },
  {
   "cell_type": "code",
   "execution_count": 328,
   "metadata": {},
   "outputs": [],
   "source": [
    "# corr_('Bankruptcies', 0,1)"
   ]
  },
  {
   "cell_type": "code",
   "execution_count": null,
   "metadata": {},
   "outputs": [],
   "source": []
  },
  {
   "cell_type": "markdown",
   "metadata": {},
   "source": [
    "### Purpose - цель кредита <a name=11_p>\n",
    "\n",
    "[к оглавлению](#index)"
   ]
  },
  {
   "cell_type": "code",
   "execution_count": 329,
   "metadata": {},
   "outputs": [
    {
     "data": {
      "text/plain": [
       "debt consolidation      5944\n",
       "other                    665\n",
       "home improvements        412\n",
       "business loan            129\n",
       "buy a car                 96\n",
       "medical bills             71\n",
       "major purchase            40\n",
       "take a trip               37\n",
       "buy house                 34\n",
       "small business            26\n",
       "wedding                   15\n",
       "moving                    11\n",
       "educational expenses      10\n",
       "vacation                   8\n",
       "renewable energy           2\n",
       "Name: Purpose, dtype: int64"
      ]
     },
     "execution_count": 329,
     "metadata": {},
     "output_type": "execute_result"
    }
   ],
   "source": [
    "df['Purpose'].value_counts()"
   ]
  },
  {
   "cell_type": "code",
   "execution_count": 330,
   "metadata": {},
   "outputs": [
    {
     "data": {
      "text/plain": [
       "debt consolidation      1973\n",
       "other                    240\n",
       "home improvements        140\n",
       "buy a car                 34\n",
       "business loan             30\n",
       "medical bills             27\n",
       "buy house                 19\n",
       "take a trip               14\n",
       "major purchase             9\n",
       "small business             5\n",
       "vacation                   3\n",
       "educational expenses       3\n",
       "wedding                    2\n",
       "moving                     1\n",
       "Name: Purpose, dtype: int64"
      ]
     },
     "execution_count": 330,
     "metadata": {},
     "output_type": "execute_result"
    }
   ],
   "source": [
    "df_test['Purpose'].value_counts()"
   ]
  },
  {
   "cell_type": "code",
   "execution_count": 331,
   "metadata": {},
   "outputs": [],
   "source": [
    "df.loc[(df['Purpose'] == 'debt consolidation'), 'Purpose'] = 0\n",
    "df.loc[(df['Purpose'] == 'other'), 'Purpose'] = 0\n",
    "df.loc[(df['Purpose'] == 'home improvements'), 'Purpose'] = 0\n",
    "df.loc[(df['Purpose'] == 'business loan'), 'Purpose'] = 1\n",
    "df.loc[(df['Purpose'] == 'buy a car'), 'Purpose'] = 0\n",
    "df.loc[(df['Purpose'] == 'medical bills'), 'Purpose'] = 0\n",
    "df.loc[(df['Purpose'] == 'major purchase'), 'Purpose'] = 0\n",
    "df.loc[(df['Purpose'] == 'take a trip'), 'Purpose'] = 0\n",
    "df.loc[(df['Purpose'] == 'buy house'), 'Purpose'] = 0\n",
    "df.loc[(df['Purpose'] == 'small business'), 'Purpose'] = 2\n",
    "df.loc[(df['Purpose'] == 'wedding'), 'Purpose'] = 0\n",
    "df.loc[(df['Purpose'] == 'moving'), 'Purpose'] = 0\n",
    "df.loc[(df['Purpose'] == 'educational expenses'), 'Purpose'] = 3\n",
    "df.loc[(df['Purpose'] == 'vacation'), 'Purpose'] = 0\n",
    "df.loc[(df['Purpose'] == 'renewable energy'), 'Purpose'] = 0\n",
    "\n",
    "\n",
    "df_test.loc[(df_test['Purpose'] == 'debt consolidation'), 'Purpose'] = 0\n",
    "df_test.loc[(df_test['Purpose'] == 'other'), 'Purpose'] = 0\n",
    "df_test.loc[(df_test['Purpose'] == 'home improvements'), 'Purpose'] = 0\n",
    "df_test.loc[(df_test['Purpose'] == 'business loan'), 'Purpose'] = 1\n",
    "df_test.loc[(df_test['Purpose'] == 'buy a car'), 'Purpose'] = 0\n",
    "df_test.loc[(df_test['Purpose'] == 'medical bills'), 'Purpose'] = 0\n",
    "df_test.loc[(df_test['Purpose'] == 'major purchase'), 'Purpose'] = 0\n",
    "df_test.loc[(df_test['Purpose'] == 'take a trip'), 'Purpose'] = 0\n",
    "df_test.loc[(df_test['Purpose'] == 'buy house'), 'Purpose'] = 0\n",
    "df_test.loc[(df_test['Purpose'] == 'small business'), 'Purpose'] = 2\n",
    "df_test.loc[(df_test['Purpose'] == 'wedding'), 'Purpose'] = 0\n",
    "df_test.loc[(df_test['Purpose'] == 'moving'), 'Purpose'] = 0\n",
    "df_test.loc[(df_test['Purpose'] == 'educational expenses'), 'Purpose'] = 3\n",
    "df_test.loc[(df_test['Purpose'] == 'vacation'), 'Purpose'] = 0\n",
    "# df_test.loc[(df_test['Purpose'] == 'renewable energy'), 'Purpose'] = 14"
   ]
  },
  {
   "cell_type": "code",
   "execution_count": 332,
   "metadata": {},
   "outputs": [
    {
     "data": {
      "image/png": "[encoded data removed]",
      "text/plain": [
       "<Figure size 432x288 with 1 Axes>"
      ]
     },
     "metadata": {
      "needs_background": "light"
     },
     "output_type": "display_data"
    }
   ],
   "source": [
    "sns.countplot(x=\"Purpose\", hue='Credit Default', data=df)\n",
    "plt.show()"
   ]
  },
  {
   "cell_type": "code",
   "execution_count": 333,
   "metadata": {},
   "outputs": [],
   "source": [
    "# corr_('Purpose',0,1)\n",
    "# corr_('Purpose',0,2)\n",
    "# corr_('Purpose',0,3)\n",
    "# corr_('Purpose',0,4)\n",
    "# corr_('Purpose',0,5)\n",
    "# corr_('Purpose',0,6)\n",
    "# corr_('Purpose',0,7)\n",
    "# corr_('Purpose',0,8)\n",
    "# corr_('Purpose',0,9)\n",
    "# corr_('Purpose',0,10)\n",
    "# corr_('Purpose',0,11)\n",
    "# corr_('Purpose',0,12)\n",
    "# corr_('Purpose',0,13)\n",
    "# corr_('Purpose',0,14)"
   ]
  },
  {
   "cell_type": "code",
   "execution_count": null,
   "metadata": {},
   "outputs": [],
   "source": []
  },
  {
   "cell_type": "code",
   "execution_count": null,
   "metadata": {},
   "outputs": [],
   "source": []
  },
  {
   "cell_type": "code",
   "execution_count": 334,
   "metadata": {},
   "outputs": [],
   "source": [
    "# df = pd.concat([df, pd.get_dummies(df['Purpose'], prefix='Purpose')], axis=1)\n",
    "# df_test = pd.concat([df_test, pd.get_dummies(df_test['Purpose'], prefix='Purpose')], axis=1)"
   ]
  },
  {
   "cell_type": "code",
   "execution_count": null,
   "metadata": {},
   "outputs": [],
   "source": []
  },
  {
   "cell_type": "markdown",
   "metadata": {},
   "source": [
    "### Term - срок кредита - срок кредита <a name=12_t>\n",
    "\n",
    "[к оглавлению](#index)"
   ]
  },
  {
   "cell_type": "code",
   "execution_count": 335,
   "metadata": {},
   "outputs": [
    {
     "data": {
      "text/plain": [
       "Short Term    5556\n",
       "Long Term     1944\n",
       "Name: Term, dtype: int64"
      ]
     },
     "execution_count": 335,
     "metadata": {},
     "output_type": "execute_result"
    }
   ],
   "source": [
    "df['Term'].value_counts()"
   ]
  },
  {
   "cell_type": "code",
   "execution_count": 336,
   "metadata": {},
   "outputs": [
    {
     "data": {
      "image/png": "[encoded data removed]",
      "text/plain": [
       "<Figure size 432x288 with 1 Axes>"
      ]
     },
     "metadata": {
      "needs_background": "light"
     },
     "output_type": "display_data"
    }
   ],
   "source": [
    "sns.countplot(x=\"Term\", data=df)\n",
    "plt.show()"
   ]
  },
  {
   "cell_type": "code",
   "execution_count": 337,
   "metadata": {},
   "outputs": [],
   "source": [
    "df['Term'] = df['Term'].map({'Short Term':'1', 'Long Term':'0'}).astype(float)\n",
    "df_test['Term'] = df_test['Term'].map({'Short Term':'1', 'Long Term':'0'}).astype(float)"
   ]
  },
  {
   "cell_type": "code",
   "execution_count": 338,
   "metadata": {},
   "outputs": [],
   "source": [
    "# df['Term'].value_counts()"
   ]
  },
  {
   "cell_type": "code",
   "execution_count": 339,
   "metadata": {},
   "outputs": [
    {
     "data": {
      "image/png": "[encoded data removed]",
      "text/plain": [
       "<Figure size 432x288 with 1 Axes>"
      ]
     },
     "metadata": {
      "needs_background": "light"
     },
     "output_type": "display_data"
    }
   ],
   "source": [
    "sns.countplot(x=\"Term\", hue='Credit Default', data=df)\n",
    "plt.show()"
   ]
  },
  {
   "cell_type": "code",
   "execution_count": 340,
   "metadata": {},
   "outputs": [
    {
     "name": "stdout",
     "output_type": "stream",
     "text": [
      "1.1519373940439208e-55\n"
     ]
    }
   ],
   "source": [
    "corr_('Term',0,1)"
   ]
  },
  {
   "cell_type": "code",
   "execution_count": null,
   "metadata": {},
   "outputs": [],
   "source": []
  },
  {
   "cell_type": "markdown",
   "metadata": {},
   "source": [
    "### Current Loan Amount - текущая сумма кредита <a name=13_cla>\n",
    "\n",
    "`большие выбросы выделил в отдельную переменную (это вариант показал лучшие результаты)`\n",
    "    \n",
    "[к оглавлению](#index)"
   ]
  },
  {
   "cell_type": "code",
   "execution_count": 341,
   "metadata": {},
   "outputs": [],
   "source": [
    "# df = pd.read_csv('course_project_train.csv')"
   ]
  },
  {
   "cell_type": "code",
   "execution_count": 342,
   "metadata": {},
   "outputs": [
    {
     "data": {
      "text/plain": [
       "99999999.0    870\n",
       "89298.0         6\n",
       "218064.0        6\n",
       "216106.0        5\n",
       "270226.0        5\n",
       "             ... \n",
       "490006.0        1\n",
       "404756.0        1\n",
       "194414.0        1\n",
       "420376.0        1\n",
       "33792.0         1\n",
       "Name: Current Loan Amount, Length: 5386, dtype: int64"
      ]
     },
     "execution_count": 342,
     "metadata": {},
     "output_type": "execute_result"
    }
   ],
   "source": [
    "df['Current Loan Amount'].value_counts()\n",
    "# df['Current Loan Amount BIG'].value_counts()"
   ]
  },
  {
   "cell_type": "code",
   "execution_count": 343,
   "metadata": {},
   "outputs": [
    {
     "data": {
      "text/plain": [
       "count    7.500000e+03\n",
       "mean     1.187318e+07\n",
       "std      3.192612e+07\n",
       "min      1.124200e+04\n",
       "25%      1.801690e+05\n",
       "50%      3.095730e+05\n",
       "75%      5.198820e+05\n",
       "max      1.000000e+08\n",
       "Name: Current Loan Amount, dtype: float64"
      ]
     },
     "execution_count": 343,
     "metadata": {},
     "output_type": "execute_result"
    }
   ],
   "source": [
    "df['Current Loan Amount'].describe()"
   ]
  },
  {
   "cell_type": "code",
   "execution_count": 344,
   "metadata": {},
   "outputs": [
    {
     "data": {
      "text/plain": [
       "<matplotlib.axes._subplots.AxesSubplot at 0x1574eb3ac40>"
      ]
     },
     "execution_count": 344,
     "metadata": {},
     "output_type": "execute_result"
    },
    {
     "data": {
      "image/png": "[encoded data removed]",
      "text/plain": [
       "<Figure size 432x288 with 1 Axes>"
      ]
     },
     "metadata": {
      "needs_background": "light"
     },
     "output_type": "display_data"
    }
   ],
   "source": [
    "df['Current Loan Amount'].hist()"
   ]
  },
  {
   "cell_type": "code",
   "execution_count": 345,
   "metadata": {},
   "outputs": [],
   "source": [
    "# вынос больших выбросов в отдельную переменную. результат не меняется: 0.53, 0.52, 0.52 || 0.53\n",
    "df['Current Loan Amount BIG'] = df['Current Loan Amount'] == 99999999\n",
    "df_test['Current Loan Amount BIG'] = df_test['Current Loan Amount'] == 99999999\n",
    "\n",
    "# дополнительно к п.1 пробуем обнулить большие выбросы: __, __, __ || __\n",
    "# df.loc[(df['Current Loan Amount'] == 99999999), 'Current Loan Amount'] = 0\n",
    "# df_test.loc[(df_test['Current Loan Amount'] == 99999999), 'Current Loan Amount'] = 0\n",
    "\n",
    "\n",
    "\n",
    "# df.loc[(df['Current Loan Amount'] == 99999999), 'Current Loan Amount'] = df['Current Loan Amount'].mean()\n",
    "# df.loc[(df['Current Loan Amount'] == 99999999), 'Current Loan Amount'] = df['Current Loan Amount'].median()\n",
    "\n",
    "# df.loc[(df['Current Loan Amount'] > 0) & (df['Current Loan Amount'] < 200000), 'Current Loan Amount'] = 1\n",
    "# df.loc[(df['Current Loan Amount'] >= 200000) & (df['Current Loan Amount'] < 325000), 'Current Loan Amount'] = 2\n",
    "# df.loc[(df['Current Loan Amount'] >= 325000) & (df['Current Loan Amount'] < 450000), 'Current Loan Amount'] = 3\n",
    "# df.loc[(df['Current Loan Amount'] >= 450000), 'Current Loan Amount'] = 4\n",
    "\n",
    "\n",
    "# df_test.loc[(df_test['Current Loan Amount'] == 99999999), 'Current Loan Amount'] = 0\n",
    "# df_test.loc[(df_test['Current Loan Amount'] > 0) & (df_test['Current Loan Amount'] < 200000), 'Current Loan Amount'] = 1\n",
    "# df_test.loc[(df_test['Current Loan Amount'] >= 200000) & (df_test['Current Loan Amount'] < 325000), 'Current Loan Amount'] = 2\n",
    "# df_test.loc[(df_test['Current Loan Amount'] >= 325000) & (df_test['Current Loan Amount'] < 450000), 'Current Loan Amount'] = 3\n",
    "# df_test.loc[(df_test['Current Loan Amount'] >= 450000), 'Current Loan Amount'] = 4"
   ]
  },
  {
   "cell_type": "code",
   "execution_count": 346,
   "metadata": {},
   "outputs": [],
   "source": [
    "# sns.countplot(x=\"Current Loan Amount\", hue='Credit Default', data=df)\n",
    "# plt.show()"
   ]
  },
  {
   "cell_type": "code",
   "execution_count": 347,
   "metadata": {},
   "outputs": [],
   "source": [
    "# corr_('Current Loan Amount', 1,2)\n",
    "# corr_('Current Loan Amount', 2,3)\n",
    "# corr_('Current Loan Amount', 3,4)"
   ]
  },
  {
   "cell_type": "code",
   "execution_count": null,
   "metadata": {},
   "outputs": [],
   "source": []
  },
  {
   "cell_type": "code",
   "execution_count": null,
   "metadata": {},
   "outputs": [],
   "source": []
  },
  {
   "cell_type": "markdown",
   "metadata": {},
   "source": [
    "### Current Credit Balance - текущий кредитный баланс <a name=14_ccb>\n",
    "\n",
    "`пока тоже поделю на категории...`\n",
    "\n",
    "[к оглавлению](#index)"
   ]
  },
  {
   "cell_type": "code",
   "execution_count": 348,
   "metadata": {},
   "outputs": [
    {
     "data": {
      "text/plain": [
       "count    7.500000e+03\n",
       "mean     2.898332e+05\n",
       "std      3.178714e+05\n",
       "min      0.000000e+00\n",
       "25%      1.142565e+05\n",
       "50%      2.093230e+05\n",
       "75%      3.604062e+05\n",
       "max      6.506797e+06\n",
       "Name: Current Credit Balance, dtype: float64"
      ]
     },
     "execution_count": 348,
     "metadata": {},
     "output_type": "execute_result"
    }
   ],
   "source": [
    "df['Current Credit Balance'].describe()"
   ]
  },
  {
   "cell_type": "code",
   "execution_count": 349,
   "metadata": {},
   "outputs": [
    {
     "data": {
      "text/plain": [
       "<matplotlib.axes._subplots.AxesSubplot at 0x1576153e4f0>"
      ]
     },
     "execution_count": 349,
     "metadata": {},
     "output_type": "execute_result"
    },
    {
     "data": {
      "image/png": "[encoded data removed]",
      "text/plain": [
       "<Figure size 432x288 with 1 Axes>"
      ]
     },
     "metadata": {
      "needs_background": "light"
     },
     "output_type": "display_data"
    }
   ],
   "source": [
    "df['Current Credit Balance'].hist()"
   ]
  },
  {
   "cell_type": "code",
   "execution_count": 350,
   "metadata": {},
   "outputs": [
    {
     "data": {
      "text/plain": [
       "<matplotlib.axes._subplots.AxesSubplot at 0x1574eb3a310>"
      ]
     },
     "execution_count": 350,
     "metadata": {},
     "output_type": "execute_result"
    },
    {
     "data": {
      "image/png": "[encoded data removed]",
      "text/plain": [
       "<Figure size 432x288 with 1 Axes>"
      ]
     },
     "metadata": {
      "needs_background": "light"
     },
     "output_type": "display_data"
    }
   ],
   "source": [
    "df_test['Current Credit Balance'].hist()"
   ]
  },
  {
   "cell_type": "code",
   "execution_count": 351,
   "metadata": {},
   "outputs": [],
   "source": [
    "# df = pd.read_csv('course_project_train.csv')"
   ]
  },
  {
   "cell_type": "code",
   "execution_count": 352,
   "metadata": {},
   "outputs": [],
   "source": [
    "# df.loc[(df['Current Credit Balance'] < 100000), 'Current Credit Balance'] = 0\n",
    "# df.loc[(df['Current Credit Balance'] >= 100000) & (df['Current Credit Balance'] < 200000), 'Current Credit Balance'] = 1\n",
    "# df.loc[(df['Current Credit Balance'] >= 200000) & (df['Current Credit Balance'] < 300000), 'Current Credit Balance'] = 2\n",
    "# df.loc[(df['Current Credit Balance'] >= 300000) & (df['Current Credit Balance'] < 400000), 'Current Credit Balance'] = 3\n",
    "# df.loc[(df['Current Credit Balance'] >= 400000), 'Current Credit Balance'] = 4\n",
    "\n",
    "\n",
    "# df_test.loc[(df_test['Current Credit Balance'] < 100000), 'Current Credit Balance'] = 0\n",
    "# df_test.loc[(df_test['Current Credit Balance'] >= 100000) & (df_test['Current Credit Balance'] < 200000), 'Current Credit Balance'] = 1\n",
    "# df_test.loc[(df_test['Current Credit Balance'] >= 200000) & (df_test['Current Credit Balance'] < 300000), 'Current Credit Balance'] = 2\n",
    "# df_test.loc[(df_test['Current Credit Balance'] >= 300000) & (df_test['Current Credit Balance'] < 400000), 'Current Credit Balance'] = 3\n",
    "# df_test.loc[(df_test['Current Credit Balance'] >= 400000), 'Current Credit Balance'] = 4"
   ]
  },
  {
   "cell_type": "code",
   "execution_count": 353,
   "metadata": {},
   "outputs": [],
   "source": [
    "# df['Current Credit Balance'].value_counts()"
   ]
  },
  {
   "cell_type": "code",
   "execution_count": 354,
   "metadata": {},
   "outputs": [],
   "source": [
    "# sns.countplot(x=\"Current Credit Balance\", hue='Credit Default', data=df)\n",
    "# plt.show()"
   ]
  },
  {
   "cell_type": "code",
   "execution_count": 355,
   "metadata": {},
   "outputs": [],
   "source": [
    "# corr_('Current Credit Balance', 0,1)\n",
    "# corr_('Current Credit Balance', 1,2)\n",
    "# corr_('Current Credit Balance', 2,3)\n",
    "# corr_('Current Credit Balance', 3,5)"
   ]
  },
  {
   "cell_type": "code",
   "execution_count": null,
   "metadata": {},
   "outputs": [],
   "source": []
  },
  {
   "cell_type": "code",
   "execution_count": null,
   "metadata": {},
   "outputs": [],
   "source": []
  },
  {
   "cell_type": "markdown",
   "metadata": {},
   "source": [
    "### Monthly Debt - ежемесячный долг <a name=15_md>\n",
    "\n",
    "`пока поделю по на категории`\n",
    "\n",
    "[к оглавлению](#index)"
   ]
  },
  {
   "cell_type": "code",
   "execution_count": 356,
   "metadata": {},
   "outputs": [],
   "source": [
    "# df['Monthly Debt'].value_counts()"
   ]
  },
  {
   "cell_type": "code",
   "execution_count": 357,
   "metadata": {},
   "outputs": [
    {
     "data": {
      "text/plain": [
       "<matplotlib.axes._subplots.AxesSubplot at 0x1575f7b8e20>"
      ]
     },
     "execution_count": 357,
     "metadata": {},
     "output_type": "execute_result"
    },
    {
     "data": {
      "image/png": "[encoded data removed]",
      "text/plain": [
       "<Figure size 432x288 with 1 Axes>"
      ]
     },
     "metadata": {
      "needs_background": "light"
     },
     "output_type": "display_data"
    }
   ],
   "source": [
    "df['Monthly Debt'].hist()"
   ]
  },
  {
   "cell_type": "code",
   "execution_count": 358,
   "metadata": {},
   "outputs": [
    {
     "data": {
      "text/plain": [
       "<matplotlib.axes._subplots.AxesSubplot at 0x1574efe7b80>"
      ]
     },
     "execution_count": 358,
     "metadata": {},
     "output_type": "execute_result"
    },
    {
     "data": {
      "image/png": "[encoded data removed]",
      "text/plain": [
       "<Figure size 432x288 with 1 Axes>"
      ]
     },
     "metadata": {
      "needs_background": "light"
     },
     "output_type": "display_data"
    }
   ],
   "source": [
    "df_test['Monthly Debt'].hist()"
   ]
  },
  {
   "cell_type": "code",
   "execution_count": 359,
   "metadata": {},
   "outputs": [],
   "source": [
    "# sns.countplot(x=\"Monthly Debt\", hue='Credit Default', data=df)\n",
    "# plt.show()"
   ]
  },
  {
   "cell_type": "code",
   "execution_count": 360,
   "metadata": {},
   "outputs": [],
   "source": [
    "# df.loc[(df['Monthly Debt'] < 15000), 'Monthly Debt'] = 0\n",
    "\n",
    "# df.loc[(df['Monthly Debt'] >= 15000) & (df['Monthly Debt'] < 25000), 'Monthly Debt'] = 1\n",
    "# df.loc[(df['Monthly Debt'] >= 25000) & (df['Monthly Debt'] < 40000), 'Monthly Debt'] = 2\n",
    "# df.loc[(df['Monthly Debt'] >= 40000) & (df['Monthly Debt'] < 55000), 'Monthly Debt'] = 3\n",
    "# df.loc[(df['Monthly Debt'] >= 55000), 'Monthly Debt'] = 4"
   ]
  },
  {
   "cell_type": "code",
   "execution_count": 361,
   "metadata": {},
   "outputs": [],
   "source": [
    "# sns.countplot(x=\"Monthly Debt\", hue='Credit Default', data=df)\n",
    "# plt.show()"
   ]
  },
  {
   "cell_type": "code",
   "execution_count": 362,
   "metadata": {},
   "outputs": [],
   "source": [
    "# corr_('Monthly Debt', 0,1)\n",
    "# corr_('Monthly Debt', 0,2)\n",
    "# corr_('Monthly Debt', 0,3)\n",
    "# corr_('Monthly Debt', 0,4)"
   ]
  },
  {
   "cell_type": "code",
   "execution_count": null,
   "metadata": {},
   "outputs": [],
   "source": []
  },
  {
   "cell_type": "code",
   "execution_count": null,
   "metadata": {},
   "outputs": [],
   "source": []
  },
  {
   "cell_type": "markdown",
   "metadata": {},
   "source": [
    "### Credit Score - кредитный рейтинг <a name=16_cs>\n",
    "    \n",
    "`отановился на варианте разиения показателя на категории, согласно таблице Кредитного Скролинга из Википдии.\n",
    "    null выделил в отдельную группу + создал отдельную переменную Credit Score NULL \n",
    "    так же объединил категории 1 и 2, поскольку они показали большую корреляцию`\n",
    "\n",
    "[к оглавлению](#index)"
   ]
  },
  {
   "cell_type": "code",
   "execution_count": 363,
   "metadata": {},
   "outputs": [],
   "source": [
    "# df['Credit Score NULL'].value_countss()"
   ]
  },
  {
   "cell_type": "code",
   "execution_count": 364,
   "metadata": {},
   "outputs": [
    {
     "data": {
      "text/plain": [
       "count    5943.000000\n",
       "mean     1151.087498\n",
       "std      1604.451418\n",
       "min       585.000000\n",
       "25%       711.000000\n",
       "50%       731.000000\n",
       "75%       743.000000\n",
       "max      7510.000000\n",
       "Name: Credit Score, dtype: float64"
      ]
     },
     "execution_count": 364,
     "metadata": {},
     "output_type": "execute_result"
    }
   ],
   "source": [
    "df['Credit Score'].describe()"
   ]
  },
  {
   "cell_type": "code",
   "execution_count": 365,
   "metadata": {},
   "outputs": [],
   "source": [
    "# df['Credit Score'].hist()"
   ]
  },
  {
   "cell_type": "code",
   "execution_count": 366,
   "metadata": {},
   "outputs": [],
   "source": [
    "df.loc[(df['Credit Score'] < 700), 'Credit Score'] = 0\n",
    "df.loc[(df['Credit Score'] >= 700) & (df['Credit Score'] < 740), 'Credit Score'] = 1\n",
    "# df.loc[(df['Credit Score'] >= 720) & (df['Credit Score'] < 740), 'Credit Score'] = 2\n",
    "df.loc[(df['Credit Score'] >= 740) & (df['Credit Score'] <= 750), 'Credit Score'] = 2\n",
    "df.loc[(df['Credit Score'] > 750), 'Credit Score'] = 3\n",
    "\n",
    "df['Credit Score NULL'] = df['Credit Score'].isnull()\n",
    "df.loc[df['Credit Score'].isnull(), 'Credit Score'] = 4\n",
    "# df.loc[df['Credit Score'].isnull(), 'Credit Score'] = df['Credit Score'].median()\n",
    "\n",
    "\n",
    "df_test.loc[(df_test['Credit Score'] < 700), 'Credit Score'] = 0\n",
    "df_test.loc[(df_test['Credit Score'] >= 700) & (df_test['Credit Score'] < 740), 'Credit Score'] = 1\n",
    "df_test.loc[(df_test['Credit Score'] >= 740) & (df_test['Credit Score'] <= 750), 'Credit Score'] = 2\n",
    "df_test.loc[(df_test['Credit Score'] > 750), 'Credit Score'] = 3\n",
    "\n",
    "df_test['Credit Score NULL'] = df_test['Credit Score'].isnull()\n",
    "df_test.loc[df_test['Credit Score'].isnull(), 'Credit Score'] = 4"
   ]
  },
  {
   "cell_type": "code",
   "execution_count": 367,
   "metadata": {},
   "outputs": [],
   "source": [
    "# df['Credit Score'].value_counts()"
   ]
  },
  {
   "cell_type": "code",
   "execution_count": 368,
   "metadata": {},
   "outputs": [
    {
     "data": {
      "image/png": "[encoded data removed]",
      "text/plain": [
       "<Figure size 432x288 with 1 Axes>"
      ]
     },
     "metadata": {
      "needs_background": "light"
     },
     "output_type": "display_data"
    }
   ],
   "source": [
    "sns.countplot(x=\"Credit Score\", hue='Credit Default', data=df)\n",
    "plt.show()"
   ]
  },
  {
   "cell_type": "code",
   "execution_count": null,
   "metadata": {},
   "outputs": [],
   "source": []
  },
  {
   "cell_type": "code",
   "execution_count": 369,
   "metadata": {},
   "outputs": [],
   "source": [
    "# corr_('Credit Score', 4, 0)\n",
    "# corr_('Credit Score', 4, 1)\n",
    "# corr_('Credit Score', 4, 2)\n",
    "# corr_('Credit Score', 4, 3)"
   ]
  },
  {
   "cell_type": "code",
   "execution_count": null,
   "metadata": {},
   "outputs": [],
   "source": []
  },
  {
   "cell_type": "markdown",
   "metadata": {},
   "source": [
    "## Заполнение `Month since last delinquent` на основе других столбцов <a name=monthNULL>\n",
    "\n",
    "[к оглавлению](#index)"
   ]
  },
  {
   "cell_type": "code",
   "execution_count": 411,
   "metadata": {},
   "outputs": [
    {
     "name": "stdout",
     "output_type": "stream",
     "text": [
      "<class 'pandas.core.frame.DataFrame'>\n",
      "RangeIndex: 7500 entries, 0 to 7499\n",
      "Data columns (total 24 columns):\n",
      " #   Column                        Non-Null Count  Dtype  \n",
      "---  ------                        --------------  -----  \n",
      " 0   Home Ownership                7500 non-null   object \n",
      " 1   Annual Income                 7500 non-null   float64\n",
      " 2   Years in current job          7500 non-null   float64\n",
      " 3   Tax Liens                     7500 non-null   float64\n",
      " 4   Number of Open Accounts       7500 non-null   float64\n",
      " 5   Years of Credit History       7500 non-null   float64\n",
      " 6   Maximum Open Credit           7500 non-null   float64\n",
      " 7   Number of Credit Problems     7500 non-null   float64\n",
      " 8   Months since last delinquent  3419 non-null   float64\n",
      " 9   Bankruptcies                  7500 non-null   float64\n",
      " 10  Purpose                       7500 non-null   object \n",
      " 11  Term                          7500 non-null   float64\n",
      " 12  Current Loan Amount           7500 non-null   float64\n",
      " 13  Current Credit Balance        7500 non-null   float64\n",
      " 14  Monthly Debt                  7500 non-null   float64\n",
      " 15  Credit Score                  7500 non-null   float64\n",
      " 16  Credit Default                7500 non-null   int64  \n",
      " 17  ID                            7500 non-null   int64  \n",
      " 18  Home Ownership_Have Mortgage  7500 non-null   uint8  \n",
      " 19  Home Ownership_Home Mortgage  7500 non-null   uint8  \n",
      " 20  Home Ownership_Own Home       7500 non-null   uint8  \n",
      " 21  Home Ownership_Rent           7500 non-null   uint8  \n",
      " 22  Current Loan Amount BIG       7500 non-null   bool   \n",
      " 23  Credit Score NULL             7500 non-null   bool   \n",
      "dtypes: bool(2), float64(14), int64(2), object(2), uint8(4)\n",
      "memory usage: 1.1+ MB\n"
     ]
    }
   ],
   "source": [
    "# смотрим. в столбце Month since last delinquent 4081 пропусков из 7500. Это много\n",
    "df.info()"
   ]
  },
  {
   "cell_type": "code",
   "execution_count": 412,
   "metadata": {},
   "outputs": [],
   "source": [
    "# тут ЗАПОЛНЕНО - это трайн\n",
    "df_m = df[np.isfinite(df['Months since last delinquent'])]\n",
    "\n",
    "# тут НЕ ЗАПОЛНЕНО - это тест\n",
    "df_m_test = df.loc[df['Months since last delinquent'].isnull()]"
   ]
  },
  {
   "cell_type": "code",
   "execution_count": 413,
   "metadata": {},
   "outputs": [],
   "source": [
    "# df_m.info()\n",
    "# df_m_test.info()"
   ]
  },
  {
   "cell_type": "code",
   "execution_count": 414,
   "metadata": {},
   "outputs": [
    {
     "name": "stderr",
     "output_type": "stream",
     "text": [
      "<ipython-input-414-f75975428cbf>:1: SettingWithCopyWarning: \n",
      "A value is trying to be set on a copy of a slice from a DataFrame.\n",
      "Try using .loc[row_indexer,col_indexer] = value instead\n",
      "\n",
      "See the caveats in the documentation: https://pandas.pydata.org/pandas-docs/stable/user_guide/indexing.html#returning-a-view-versus-a-copy\n",
      "  df_m['Purpose'] = df_m['Purpose'].astype(float)\n",
      "<ipython-input-414-f75975428cbf>:2: SettingWithCopyWarning: \n",
      "A value is trying to be set on a copy of a slice from a DataFrame.\n",
      "Try using .loc[row_indexer,col_indexer] = value instead\n",
      "\n",
      "See the caveats in the documentation: https://pandas.pydata.org/pandas-docs/stable/user_guide/indexing.html#returning-a-view-versus-a-copy\n",
      "  df_m_test['Purpose'] = df_m_test['Purpose'].astype(float)\n"
     ]
    }
   ],
   "source": [
    "df_m['Purpose'] = df_m['Purpose'].astype(float)\n",
    "df_m_test['Purpose'] = df_m_test['Purpose'].astype(float)"
   ]
  },
  {
   "cell_type": "code",
   "execution_count": 415,
   "metadata": {},
   "outputs": [],
   "source": [
    "# df_m_test['Home Ownership'].value_counts()\n",
    "# df['Months since last delinquent'].describe()\n",
    "# df['Months since last delinquent'].hist()"
   ]
  },
  {
   "cell_type": "code",
   "execution_count": 416,
   "metadata": {},
   "outputs": [
    {
     "data": {
      "text/html": [
       "<div>\n",
       "<style scoped>\n",
       "    .dataframe tbody tr th:only-of-type {\n",
       "        vertical-align: middle;\n",
       "    }\n",
       "\n",
       "    .dataframe tbody tr th {\n",
       "        vertical-align: top;\n",
       "    }\n",
       "\n",
       "    .dataframe thead th {\n",
       "        text-align: right;\n",
       "    }\n",
       "</style>\n",
       "<table border=\"1\" class=\"dataframe\">\n",
       "  <thead>\n",
       "    <tr style=\"text-align: right;\">\n",
       "      <th></th>\n",
       "      <th>Home Ownership</th>\n",
       "      <th>Annual Income</th>\n",
       "      <th>Years in current job</th>\n",
       "      <th>Tax Liens</th>\n",
       "      <th>Number of Open Accounts</th>\n",
       "      <th>Years of Credit History</th>\n",
       "      <th>Maximum Open Credit</th>\n",
       "      <th>Number of Credit Problems</th>\n",
       "      <th>Months since last delinquent</th>\n",
       "      <th>Bankruptcies</th>\n",
       "      <th>...</th>\n",
       "      <th>Monthly Debt</th>\n",
       "      <th>Credit Score</th>\n",
       "      <th>Credit Default</th>\n",
       "      <th>ID</th>\n",
       "      <th>Home Ownership_Have Mortgage</th>\n",
       "      <th>Home Ownership_Home Mortgage</th>\n",
       "      <th>Home Ownership_Own Home</th>\n",
       "      <th>Home Ownership_Rent</th>\n",
       "      <th>Current Loan Amount BIG</th>\n",
       "      <th>Credit Score NULL</th>\n",
       "    </tr>\n",
       "  </thead>\n",
       "  <tbody>\n",
       "    <tr>\n",
       "      <th>6</th>\n",
       "      <td>Home Mortgage</td>\n",
       "      <td>1511108.0</td>\n",
       "      <td>10.0</td>\n",
       "      <td>0.0</td>\n",
       "      <td>9.0</td>\n",
       "      <td>20.3</td>\n",
       "      <td>388124.0</td>\n",
       "      <td>0.0</td>\n",
       "      <td>73.0</td>\n",
       "      <td>0.0</td>\n",
       "      <td>...</td>\n",
       "      <td>2317.0</td>\n",
       "      <td>2.0</td>\n",
       "      <td>0</td>\n",
       "      <td>6</td>\n",
       "      <td>0</td>\n",
       "      <td>1</td>\n",
       "      <td>0</td>\n",
       "      <td>0</td>\n",
       "      <td>True</td>\n",
       "      <td>False</td>\n",
       "    </tr>\n",
       "    <tr>\n",
       "      <th>7</th>\n",
       "      <td>Rent</td>\n",
       "      <td>1040060.0</td>\n",
       "      <td>10.0</td>\n",
       "      <td>0.0</td>\n",
       "      <td>13.0</td>\n",
       "      <td>12.0</td>\n",
       "      <td>330374.0</td>\n",
       "      <td>0.0</td>\n",
       "      <td>18.0</td>\n",
       "      <td>0.0</td>\n",
       "      <td>...</td>\n",
       "      <td>19761.0</td>\n",
       "      <td>1.0</td>\n",
       "      <td>1</td>\n",
       "      <td>7</td>\n",
       "      <td>0</td>\n",
       "      <td>0</td>\n",
       "      <td>0</td>\n",
       "      <td>1</td>\n",
       "      <td>False</td>\n",
       "      <td>False</td>\n",
       "    </tr>\n",
       "    <tr>\n",
       "      <th>9</th>\n",
       "      <td>Home Mortgage</td>\n",
       "      <td>0.0</td>\n",
       "      <td>1.0</td>\n",
       "      <td>0.0</td>\n",
       "      <td>10.0</td>\n",
       "      <td>24.6</td>\n",
       "      <td>511302.0</td>\n",
       "      <td>0.0</td>\n",
       "      <td>6.0</td>\n",
       "      <td>0.0</td>\n",
       "      <td>...</td>\n",
       "      <td>17613.0</td>\n",
       "      <td>4.0</td>\n",
       "      <td>1</td>\n",
       "      <td>9</td>\n",
       "      <td>0</td>\n",
       "      <td>1</td>\n",
       "      <td>0</td>\n",
       "      <td>0</td>\n",
       "      <td>False</td>\n",
       "      <td>True</td>\n",
       "    </tr>\n",
       "    <tr>\n",
       "      <th>18</th>\n",
       "      <td>Home Mortgage</td>\n",
       "      <td>1401744.0</td>\n",
       "      <td>2.0</td>\n",
       "      <td>0.0</td>\n",
       "      <td>9.0</td>\n",
       "      <td>29.0</td>\n",
       "      <td>387222.0</td>\n",
       "      <td>0.0</td>\n",
       "      <td>40.0</td>\n",
       "      <td>0.0</td>\n",
       "      <td>...</td>\n",
       "      <td>13434.0</td>\n",
       "      <td>0.0</td>\n",
       "      <td>1</td>\n",
       "      <td>18</td>\n",
       "      <td>0</td>\n",
       "      <td>1</td>\n",
       "      <td>0</td>\n",
       "      <td>0</td>\n",
       "      <td>False</td>\n",
       "      <td>False</td>\n",
       "    </tr>\n",
       "    <tr>\n",
       "      <th>20</th>\n",
       "      <td>Home Mortgage</td>\n",
       "      <td>1651993.0</td>\n",
       "      <td>10.0</td>\n",
       "      <td>0.0</td>\n",
       "      <td>11.0</td>\n",
       "      <td>26.5</td>\n",
       "      <td>663894.0</td>\n",
       "      <td>0.0</td>\n",
       "      <td>44.0</td>\n",
       "      <td>0.0</td>\n",
       "      <td>...</td>\n",
       "      <td>8742.0</td>\n",
       "      <td>0.0</td>\n",
       "      <td>0</td>\n",
       "      <td>20</td>\n",
       "      <td>0</td>\n",
       "      <td>1</td>\n",
       "      <td>0</td>\n",
       "      <td>0</td>\n",
       "      <td>False</td>\n",
       "      <td>False</td>\n",
       "    </tr>\n",
       "    <tr>\n",
       "      <th>...</th>\n",
       "      <td>...</td>\n",
       "      <td>...</td>\n",
       "      <td>...</td>\n",
       "      <td>...</td>\n",
       "      <td>...</td>\n",
       "      <td>...</td>\n",
       "      <td>...</td>\n",
       "      <td>...</td>\n",
       "      <td>...</td>\n",
       "      <td>...</td>\n",
       "      <td>...</td>\n",
       "      <td>...</td>\n",
       "      <td>...</td>\n",
       "      <td>...</td>\n",
       "      <td>...</td>\n",
       "      <td>...</td>\n",
       "      <td>...</td>\n",
       "      <td>...</td>\n",
       "      <td>...</td>\n",
       "      <td>...</td>\n",
       "      <td>...</td>\n",
       "    </tr>\n",
       "    <tr>\n",
       "      <th>7489</th>\n",
       "      <td>Home Mortgage</td>\n",
       "      <td>1394942.0</td>\n",
       "      <td>10.0</td>\n",
       "      <td>0.0</td>\n",
       "      <td>15.0</td>\n",
       "      <td>27.2</td>\n",
       "      <td>1441396.0</td>\n",
       "      <td>0.0</td>\n",
       "      <td>35.0</td>\n",
       "      <td>0.0</td>\n",
       "      <td>...</td>\n",
       "      <td>16972.0</td>\n",
       "      <td>2.0</td>\n",
       "      <td>1</td>\n",
       "      <td>7489</td>\n",
       "      <td>0</td>\n",
       "      <td>1</td>\n",
       "      <td>0</td>\n",
       "      <td>0</td>\n",
       "      <td>False</td>\n",
       "      <td>False</td>\n",
       "    </tr>\n",
       "    <tr>\n",
       "      <th>7490</th>\n",
       "      <td>Own Home</td>\n",
       "      <td>1368000.0</td>\n",
       "      <td>10.0</td>\n",
       "      <td>0.0</td>\n",
       "      <td>20.0</td>\n",
       "      <td>26.7</td>\n",
       "      <td>897842.0</td>\n",
       "      <td>0.0</td>\n",
       "      <td>69.0</td>\n",
       "      <td>0.0</td>\n",
       "      <td>...</td>\n",
       "      <td>29868.0</td>\n",
       "      <td>0.0</td>\n",
       "      <td>1</td>\n",
       "      <td>7490</td>\n",
       "      <td>0</td>\n",
       "      <td>0</td>\n",
       "      <td>1</td>\n",
       "      <td>0</td>\n",
       "      <td>False</td>\n",
       "      <td>False</td>\n",
       "    </tr>\n",
       "    <tr>\n",
       "      <th>7491</th>\n",
       "      <td>Home Mortgage</td>\n",
       "      <td>2833185.0</td>\n",
       "      <td>6.0</td>\n",
       "      <td>0.0</td>\n",
       "      <td>18.0</td>\n",
       "      <td>21.3</td>\n",
       "      <td>280170.0</td>\n",
       "      <td>0.0</td>\n",
       "      <td>6.0</td>\n",
       "      <td>0.0</td>\n",
       "      <td>...</td>\n",
       "      <td>61150.0</td>\n",
       "      <td>1.0</td>\n",
       "      <td>0</td>\n",
       "      <td>7491</td>\n",
       "      <td>0</td>\n",
       "      <td>1</td>\n",
       "      <td>0</td>\n",
       "      <td>0</td>\n",
       "      <td>False</td>\n",
       "      <td>False</td>\n",
       "    </tr>\n",
       "    <tr>\n",
       "      <th>7493</th>\n",
       "      <td>Rent</td>\n",
       "      <td>1257610.0</td>\n",
       "      <td>8.0</td>\n",
       "      <td>0.0</td>\n",
       "      <td>14.0</td>\n",
       "      <td>16.5</td>\n",
       "      <td>821480.0</td>\n",
       "      <td>0.0</td>\n",
       "      <td>58.0</td>\n",
       "      <td>0.0</td>\n",
       "      <td>...</td>\n",
       "      <td>27562.0</td>\n",
       "      <td>0.0</td>\n",
       "      <td>1</td>\n",
       "      <td>7493</td>\n",
       "      <td>0</td>\n",
       "      <td>0</td>\n",
       "      <td>0</td>\n",
       "      <td>1</td>\n",
       "      <td>False</td>\n",
       "      <td>False</td>\n",
       "    </tr>\n",
       "    <tr>\n",
       "      <th>7496</th>\n",
       "      <td>Home Mortgage</td>\n",
       "      <td>1533984.0</td>\n",
       "      <td>1.0</td>\n",
       "      <td>0.0</td>\n",
       "      <td>10.0</td>\n",
       "      <td>26.5</td>\n",
       "      <td>686312.0</td>\n",
       "      <td>0.0</td>\n",
       "      <td>43.0</td>\n",
       "      <td>0.0</td>\n",
       "      <td>...</td>\n",
       "      <td>12783.0</td>\n",
       "      <td>3.0</td>\n",
       "      <td>1</td>\n",
       "      <td>7496</td>\n",
       "      <td>0</td>\n",
       "      <td>1</td>\n",
       "      <td>0</td>\n",
       "      <td>0</td>\n",
       "      <td>False</td>\n",
       "      <td>False</td>\n",
       "    </tr>\n",
       "  </tbody>\n",
       "</table>\n",
       "<p>3419 rows × 24 columns</p>\n",
       "</div>"
      ],
      "text/plain": [
       "     Home Ownership  Annual Income  Years in current job  Tax Liens  \\\n",
       "6     Home Mortgage      1511108.0                  10.0        0.0   \n",
       "7              Rent      1040060.0                  10.0        0.0   \n",
       "9     Home Mortgage            0.0                   1.0        0.0   \n",
       "18    Home Mortgage      1401744.0                   2.0        0.0   \n",
       "20    Home Mortgage      1651993.0                  10.0        0.0   \n",
       "...             ...            ...                   ...        ...   \n",
       "7489  Home Mortgage      1394942.0                  10.0        0.0   \n",
       "7490       Own Home      1368000.0                  10.0        0.0   \n",
       "7491  Home Mortgage      2833185.0                   6.0        0.0   \n",
       "7493           Rent      1257610.0                   8.0        0.0   \n",
       "7496  Home Mortgage      1533984.0                   1.0        0.0   \n",
       "\n",
       "      Number of Open Accounts  Years of Credit History  Maximum Open Credit  \\\n",
       "6                         9.0                     20.3             388124.0   \n",
       "7                        13.0                     12.0             330374.0   \n",
       "9                        10.0                     24.6             511302.0   \n",
       "18                        9.0                     29.0             387222.0   \n",
       "20                       11.0                     26.5             663894.0   \n",
       "...                       ...                      ...                  ...   \n",
       "7489                     15.0                     27.2            1441396.0   \n",
       "7490                     20.0                     26.7             897842.0   \n",
       "7491                     18.0                     21.3             280170.0   \n",
       "7493                     14.0                     16.5             821480.0   \n",
       "7496                     10.0                     26.5             686312.0   \n",
       "\n",
       "      Number of Credit Problems  Months since last delinquent  Bankruptcies  \\\n",
       "6                           0.0                          73.0           0.0   \n",
       "7                           0.0                          18.0           0.0   \n",
       "9                           0.0                           6.0           0.0   \n",
       "18                          0.0                          40.0           0.0   \n",
       "20                          0.0                          44.0           0.0   \n",
       "...                         ...                           ...           ...   \n",
       "7489                        0.0                          35.0           0.0   \n",
       "7490                        0.0                          69.0           0.0   \n",
       "7491                        0.0                           6.0           0.0   \n",
       "7493                        0.0                          58.0           0.0   \n",
       "7496                        0.0                          43.0           0.0   \n",
       "\n",
       "      ...  Monthly Debt  Credit Score  Credit Default    ID  \\\n",
       "6     ...        2317.0           2.0               0     6   \n",
       "7     ...       19761.0           1.0               1     7   \n",
       "9     ...       17613.0           4.0               1     9   \n",
       "18    ...       13434.0           0.0               1    18   \n",
       "20    ...        8742.0           0.0               0    20   \n",
       "...   ...           ...           ...             ...   ...   \n",
       "7489  ...       16972.0           2.0               1  7489   \n",
       "7490  ...       29868.0           0.0               1  7490   \n",
       "7491  ...       61150.0           1.0               0  7491   \n",
       "7493  ...       27562.0           0.0               1  7493   \n",
       "7496  ...       12783.0           3.0               1  7496   \n",
       "\n",
       "      Home Ownership_Have Mortgage  Home Ownership_Home Mortgage  \\\n",
       "6                                0                             1   \n",
       "7                                0                             0   \n",
       "9                                0                             1   \n",
       "18                               0                             1   \n",
       "20                               0                             1   \n",
       "...                            ...                           ...   \n",
       "7489                             0                             1   \n",
       "7490                             0                             0   \n",
       "7491                             0                             1   \n",
       "7493                             0                             0   \n",
       "7496                             0                             1   \n",
       "\n",
       "      Home Ownership_Own Home  Home Ownership_Rent  Current Loan Amount BIG  \\\n",
       "6                           0                    0                     True   \n",
       "7                           0                    1                    False   \n",
       "9                           0                    0                    False   \n",
       "18                          0                    0                    False   \n",
       "20                          0                    0                    False   \n",
       "...                       ...                  ...                      ...   \n",
       "7489                        0                    0                    False   \n",
       "7490                        1                    0                    False   \n",
       "7491                        0                    0                    False   \n",
       "7493                        0                    1                    False   \n",
       "7496                        0                    0                    False   \n",
       "\n",
       "      Credit Score NULL  \n",
       "6                 False  \n",
       "7                 False  \n",
       "9                  True  \n",
       "18                False  \n",
       "20                False  \n",
       "...                 ...  \n",
       "7489              False  \n",
       "7490              False  \n",
       "7491              False  \n",
       "7493              False  \n",
       "7496              False  \n",
       "\n",
       "[3419 rows x 24 columns]"
      ]
     },
     "execution_count": 416,
     "metadata": {},
     "output_type": "execute_result"
    }
   ],
   "source": [
    "df_m"
   ]
  },
  {
   "cell_type": "code",
   "execution_count": 417,
   "metadata": {},
   "outputs": [],
   "source": [
    "# выбираем столбцы для обучения\n",
    "\n",
    "COL_SELECTED_FOR_Months = [\n",
    "#        'Home Ownership',\n",
    "        'Annual Income',\n",
    "        'Years in current job',\n",
    "        'Tax Liens',\n",
    "        'Number of Open Accounts',\n",
    "        'Years of Credit History',\n",
    "        'Maximum Open Credit',\n",
    "        'Number of Credit Problems',\n",
    "#         'Months since last delinquent',\n",
    "        'Bankruptcies',\n",
    "#         'Purpose',\n",
    "        'Term',\n",
    "        'Current Loan Amount',\n",
    "        'Current Credit Balance',\n",
    "        'Monthly Debt',\n",
    "        'Credit Score',\n",
    "        'Credit Default',\n",
    "    \n",
    "        'Home Ownership_Have Mortgage',\n",
    "        'Home Ownership_Home Mortgage',\n",
    "        'Home Ownership_Own Home',\n",
    "        'Home Ownership_Rent',\n",
    "    \n",
    "#         'Current Loan Amount BIG',\n",
    "#         'Credit Score NULL'\n",
    "                         ]"
   ]
  },
  {
   "cell_type": "code",
   "execution_count": 418,
   "metadata": {},
   "outputs": [
    {
     "data": {
      "image/png": "[encoded data removed]",
      "text/plain": [
       "<Figure size 720x576 with 1 Axes>"
      ]
     },
     "metadata": {
      "needs_background": "light"
     },
     "output_type": "display_data"
    }
   ],
   "source": [
    "# # смотрим как они коррелируют с нашим полем\n",
    "\n",
    "corr_with_target = df_m[COL_SELECTED_FOR_Months + ['Months since last delinquent']].corr().iloc[:-1, -1].sort_values(ascending=False)\n",
    "plt.figure(figsize=(10, 8))\n",
    "sns.barplot(x=corr_with_target.values, y=corr_with_target.index)\n",
    "plt.title('Correlation with target variable')\n",
    "plt.show()"
   ]
  },
  {
   "cell_type": "code",
   "execution_count": 419,
   "metadata": {},
   "outputs": [],
   "source": [
    "X = df_m[COL_SELECTED_FOR_Months]\n",
    "y = df_m['Months since last delinquent']\n",
    "\n",
    "X_train, X_test, y_train, y_test = train_test_split(X, y, test_size=0.30, random_state=12)"
   ]
  },
  {
   "cell_type": "code",
   "execution_count": 420,
   "metadata": {},
   "outputs": [],
   "source": [
    "from xgboost import XGBRegressor\n",
    "from sklearn.ensemble import RandomForestRegressor\n",
    "from sklearn.ensemble import GradientBoostingRegressor\n",
    "from sklearn.metrics import r2_score as r2\n",
    "from sklearn.model_selection import KFold, GridSearchCV\n",
    "\n",
    "from sklearn.linear_model import LinearRegression"
   ]
  },
  {
   "cell_type": "code",
   "execution_count": 421,
   "metadata": {},
   "outputs": [
    {
     "name": "stdout",
     "output_type": "stream",
     "text": [
      "train:  0.03538012052963335\n",
      "test:  0.045145437403526056\n"
     ]
    }
   ],
   "source": [
    "model = LinearRegression()\n",
    "model.fit(X_train,y_train)\n",
    "\n",
    "y_pred_train = model.predict(X_train)\n",
    "y_pred_test = model.predict(X_test)\n",
    "\n",
    "print('train: ', r2(y_train, y_pred_train))\n",
    "print('test: ', r2(y_test, y_pred_test))"
   ]
  },
  {
   "cell_type": "code",
   "execution_count": 422,
   "metadata": {},
   "outputs": [
    {
     "name": "stdout",
     "output_type": "stream",
     "text": [
      "train:  0.7887220931288981\n",
      "test:  0.03541848106248835\n"
     ]
    }
   ],
   "source": [
    "model = RandomForestRegressor(n_estimators=1000, max_depth=18, random_state=43, max_features=5)\n",
    "\n",
    "model.fit(X_train, y_train)\n",
    "\n",
    "y_train_pred = model.predict(X_train)\n",
    "y_test_pred = model.predict(X_test)\n",
    "\n",
    "print('train: ', r2(y_train, y_train_pred))\n",
    "print('test: ', r2(y_test, y_test_pred))"
   ]
  },
  {
   "cell_type": "code",
   "execution_count": 423,
   "metadata": {},
   "outputs": [
    {
     "name": "stdout",
     "output_type": "stream",
     "text": [
      "train:  0.7966574893650367\n",
      "test:  -0.07347048239249898\n"
     ]
    }
   ],
   "source": [
    "model = XGBRegressor(n_estimators=100, learning_rate=0.1, gamma=0.3, subsample=0.7,min_child_weight=4,\n",
    "                           colsample_bytree=1, max_depth=7, objective ='reg:squarederror', nthread=-1, random_state=21)\n",
    "model.fit(X_train, y_train)\n",
    "\n",
    "y_pred_train = model.predict(X_train)\n",
    "y_pred_test = model.predict(X_test)\n",
    "\n",
    "print('train: ', r2(y_train, y_pred_train))\n",
    "print('test: ', r2(y_test, y_pred_test))"
   ]
  },
  {
   "cell_type": "code",
   "execution_count": 424,
   "metadata": {},
   "outputs": [
    {
     "name": "stdout",
     "output_type": "stream",
     "text": [
      "train:  0.6612002606744658\n",
      "test:  -0.03125731356980954\n"
     ]
    }
   ],
   "source": [
    "model = GradientBoostingRegressor(alpha=0.9, \n",
    "                                  max_depth=6, \n",
    "                                  max_features=1.0, \n",
    "                                  min_samples_leaf=3, \n",
    "                                  min_samples_split=2, \n",
    "                                  n_estimators=100, \n",
    "                                  random_state=8)\n",
    "model.fit(X_train, y_train)\n",
    "\n",
    "y_pred_train = model.predict(X_train)\n",
    "y_pred_test = model.predict(X_test)\n",
    "\n",
    "print('train: ', r2(y_train, y_pred_train))\n",
    "print('test: ', r2(y_test, y_pred_test))"
   ]
  },
  {
   "cell_type": "code",
   "execution_count": null,
   "metadata": {},
   "outputs": [],
   "source": []
  },
  {
   "cell_type": "markdown",
   "metadata": {},
   "source": [
    "## Новый признак <a name=\"new\"></a>\n",
    "\n",
    "[к оглавлению](#index)"
   ]
  },
  {
   "cell_type": "code",
   "execution_count": 134,
   "metadata": {},
   "outputs": [],
   "source": [
    "# (df['Tax Liens'] == 0).value_counts()"
   ]
  },
  {
   "cell_type": "code",
   "execution_count": 135,
   "metadata": {},
   "outputs": [],
   "source": [
    "# вариант 1\n",
    "\n",
    "df['No problems'] = (df['Tax Liens'] == 0) & (df['Bankruptcies'] == 0) & (df['Number of Credit Problems'] == 0)\n",
    "df_test['No problems'] = (df_test['Number of Credit Problems'] == 0) & (df_test['Bankruptcies'] == 0) & (df_test['Tax Liens'] == 0)"
   ]
  },
  {
   "cell_type": "code",
   "execution_count": 136,
   "metadata": {},
   "outputs": [
    {
     "data": {
      "text/plain": [
       "True     6469\n",
       "False    1031\n",
       "Name: No problems, dtype: int64"
      ]
     },
     "execution_count": 136,
     "metadata": {},
     "output_type": "execute_result"
    }
   ],
   "source": [
    "df['No problems'].value_counts()"
   ]
  },
  {
   "cell_type": "code",
   "execution_count": 137,
   "metadata": {},
   "outputs": [
    {
     "data": {
      "image/png": "[encoded data removed]",
      "text/plain": [
       "<Figure size 432x288 with 1 Axes>"
      ]
     },
     "metadata": {
      "needs_background": "light"
     },
     "output_type": "display_data"
    }
   ],
   "source": [
    "sns.countplot(x=\"No problems\", hue='Credit Default', data=df)\n",
    "plt.show()"
   ]
  },
  {
   "cell_type": "code",
   "execution_count": 151,
   "metadata": {},
   "outputs": [],
   "source": [
    "# corr_('No problems', False, True)"
   ]
  },
  {
   "cell_type": "code",
   "execution_count": 139,
   "metadata": {},
   "outputs": [],
   "source": [
    "# ----------------------\n",
    "# df['Xrien'] = df['Annual Income'].isnull() & df['Credit Score'].isnull()\n",
    "# df_test['Xrien'] = df_test['Annual Income'].isnull() & df_test['Credit Score'].isnull()\n",
    "# ----------------------\n",
    "# df['Big monthly Debt'] = df['Monthly Debt'] >= (df['Annual Income']/12)*0.2\n",
    "# df_test['Big monthly Debt'] = df_test['Monthly Debt'] >= (df_test['Annual Income']/12)*0.2"
   ]
  },
  {
   "cell_type": "code",
   "execution_count": null,
   "metadata": {},
   "outputs": [],
   "source": []
  },
  {
   "cell_type": "markdown",
   "metadata": {},
   "source": [
    "## Обзор целевой переменной. Credit Default <a name=17_cd>\n",
    "\n",
    "[к оглавлению](#index)"
   ]
  },
  {
   "cell_type": "code",
   "execution_count": 140,
   "metadata": {},
   "outputs": [
    {
     "data": {
      "text/plain": [
       "0    5387\n",
       "1    2113\n",
       "Name: Credit Default, dtype: int64"
      ]
     },
     "execution_count": 140,
     "metadata": {},
     "output_type": "execute_result"
    }
   ],
   "source": [
    "df['Credit Default'].value_counts()"
   ]
  },
  {
   "cell_type": "code",
   "execution_count": null,
   "metadata": {},
   "outputs": [],
   "source": []
  },
  {
   "cell_type": "markdown",
   "metadata": {},
   "source": [
    "## Смотрим, что получилось"
   ]
  },
  {
   "cell_type": "code",
   "execution_count": 141,
   "metadata": {},
   "outputs": [
    {
     "name": "stdout",
     "output_type": "stream",
     "text": [
      "<class 'pandas.core.frame.DataFrame'>\n",
      "RangeIndex: 7500 entries, 0 to 7499\n",
      "Data columns (total 26 columns):\n",
      " #   Column                             Non-Null Count  Dtype  \n",
      "---  ------                             --------------  -----  \n",
      " 0   Home Ownership                     7500 non-null   object \n",
      " 1   Annual Income                      7500 non-null   float64\n",
      " 2   Years in current job               7500 non-null   float64\n",
      " 3   Tax Liens                          7500 non-null   float64\n",
      " 4   Number of Open Accounts            7500 non-null   float64\n",
      " 5   Years of Credit History            7500 non-null   float64\n",
      " 6   Maximum Open Credit                7500 non-null   float64\n",
      " 7   Number of Credit Problems          7500 non-null   float64\n",
      " 8   Months since last delinquent       7500 non-null   float64\n",
      " 9   Bankruptcies                       7500 non-null   float64\n",
      " 10  Purpose                            7500 non-null   object \n",
      " 11  Term                               7500 non-null   float64\n",
      " 12  Current Loan Amount                7500 non-null   float64\n",
      " 13  Current Credit Balance             7500 non-null   float64\n",
      " 14  Monthly Debt                       7500 non-null   float64\n",
      " 15  Credit Score                       7500 non-null   float64\n",
      " 16  Credit Default                     7500 non-null   int64  \n",
      " 17  ID                                 7500 non-null   int64  \n",
      " 18  Home Ownership_Have Mortgage       7500 non-null   uint8  \n",
      " 19  Home Ownership_Home Mortgage       7500 non-null   uint8  \n",
      " 20  Home Ownership_Own Home            7500 non-null   uint8  \n",
      " 21  Home Ownership_Rent                7500 non-null   uint8  \n",
      " 22  Months since last delinquent NULL  7500 non-null   bool   \n",
      " 23  Current Loan Amount BIG            7500 non-null   bool   \n",
      " 24  Credit Score NULL                  7500 non-null   bool   \n",
      " 25  No problems                        7500 non-null   bool   \n",
      "dtypes: bool(4), float64(14), int64(2), object(2), uint8(4)\n",
      "memory usage: 1.1+ MB\n"
     ]
    }
   ],
   "source": [
    "df.info()"
   ]
  },
  {
   "cell_type": "code",
   "execution_count": 142,
   "metadata": {},
   "outputs": [],
   "source": [
    "# переделываем Purpose во FLOAT, потому-что некоторые алгоритмы отказываются работать с object\n",
    "\n",
    "# df['Home Ownership'] = df['Home Ownership'].astype(float)\n",
    "# df_test['Home Ownership'] = df_test['Home Ownership'].astype(float)\n",
    "\n",
    "df['Purpose'] = df['Purpose'].astype(float)\n",
    "df_test['Purpose'] = df_test['Purpose'].astype(float)\n"
   ]
  },
  {
   "cell_type": "code",
   "execution_count": 178,
   "metadata": {},
   "outputs": [],
   "source": [
    "# выбираем рабочие столбцы\n",
    "\n",
    "COL_SELECTED = [\n",
    "    'Months since last delinquent NULL',\n",
    "    'Current Loan Amount BIG',\n",
    "    'Credit Score NULL',\n",
    "    'No problems',\n",
    "    \n",
    "#         'Home Ownership',\n",
    "        'Annual Income',\n",
    "        'Years in current job',\n",
    "#         'Tax Liens',\n",
    "        'Number of Open Accounts',\n",
    "        'Years of Credit History',\n",
    "        'Maximum Open Credit',\n",
    "#         'Number of Credit Problems',\n",
    "        'Months since last delinquent',\n",
    "#         'Bankruptcies',\n",
    "        'Purpose',\n",
    "        'Term',\n",
    "        'Current Loan Amount',\n",
    "        'Current Credit Balance',\n",
    "        'Monthly Debt',\n",
    "        'Credit Score',\n",
    "    \n",
    "        'Home Ownership_Have Mortgage',\n",
    "        'Home Ownership_Home Mortgage',\n",
    "        'Home Ownership_Own Home',\n",
    "        'Home Ownership_Rent',\n",
    "    \n",
    "#         'Purpose_business loan',\n",
    "#         'Purpose_buy a car',\n",
    "#         'Purpose_buy house',\n",
    "#         'Purpose_debt consolidation',\n",
    "#         'Purpose_educational expenses',\n",
    "#         'Purpose_home improvements',\n",
    "#         'Purpose_major purchase',\n",
    "#         'Purpose_medical bills',\n",
    "#         'Purpose_moving',\n",
    "#         'Purpose_other',\n",
    "# #         'Purpose_renewable energy',\n",
    "#         'Purpose_small business',\n",
    "#         'Purpose_take a trip',\n",
    "#         'Purpose_vacation',\n",
    "#         'Purpose_wedding'\n",
    "                         ]"
   ]
  },
  {
   "cell_type": "code",
   "execution_count": 177,
   "metadata": {},
   "outputs": [],
   "source": [
    "# выбираем числовые столбцы (понадобятся, чтобы статистику строить)\n",
    "\n",
    "COL_SELECTED_NUM = [\n",
    "        'Annual Income',\n",
    "        'Years in current job',\n",
    "        'Number of Open Accounts',\n",
    "        'Years of Credit History',\n",
    "        'Current Loan Amount',\n",
    "        'Current Credit Balance',\n",
    "        'Monthly Debt',\n",
    "        'Credit Score',\n",
    "                         ]"
   ]
  },
  {
   "cell_type": "code",
   "execution_count": 144,
   "metadata": {},
   "outputs": [
    {
     "data": {
      "image/png": "[encoded data removed]",
      "text/plain": [
       "<Figure size 720x576 with 1 Axes>"
      ]
     },
     "metadata": {
      "needs_background": "light"
     },
     "output_type": "display_data"
    }
   ],
   "source": [
    "# смотрим влияния столбцов на целевой признак\n",
    "\n",
    "corr_with_target = df[COL_SELECTED + ['Credit Default']].corr().iloc[:-1, -1].sort_values(ascending=False)\n",
    "plt.figure(figsize=(10, 8))\n",
    "sns.barplot(x=corr_with_target.values, y=corr_with_target.index)\n",
    "plt.title('Correlation with target variable')\n",
    "plt.show()"
   ]
  },
  {
   "cell_type": "code",
   "execution_count": 165,
   "metadata": {},
   "outputs": [
    {
     "data": {
      "image/png": "[encoded data removed]",
      "text/plain": [
       "<Figure size 1800x1440 with 2 Axes>"
      ]
     },
     "metadata": {
      "needs_background": "light"
     },
     "output_type": "display_data"
    }
   ],
   "source": [
    "# матрица корреляции\n",
    "\n",
    "plt.figure(figsize = (25,20))\n",
    "\n",
    "sns.set(font_scale=1.4)\n",
    "\n",
    "corr_matrix = df[COL_SELECTED].corr()\n",
    "corr_matrix = np.round(corr_matrix, 2)\n",
    "corr_matrix[np.abs(corr_matrix) < 0.3] = 0\n",
    "\n",
    "sns.heatmap(corr_matrix, annot=True, linewidths=.5, cmap='GnBu')\n",
    "\n",
    "plt.title('Correlation matrix')\n",
    "plt.show()"
   ]
  },
  {
   "cell_type": "code",
   "execution_count": 176,
   "metadata": {
    "scrolled": false
   },
   "outputs": [
    {
     "name": "stdout",
     "output_type": "stream",
     "text": [
      "Annual Income\n",
      "MannwhitneyuResult(statistic=9347688.0, pvalue=0.4131472286486712)\n"
     ]
    },
    {
     "data": {
      "image/png": "[encoded data removed]",
      "text/plain": [
       "<Figure size 432x216 with 1 Axes>"
      ]
     },
     "metadata": {},
     "output_type": "display_data"
    },
    {
     "name": "stdout",
     "output_type": "stream",
     "text": [
      "Years in current job\n",
      "MannwhitneyuResult(statistic=9325493.5, pvalue=0.3434769891811027)\n"
     ]
    },
    {
     "data": {
      "image/png": "[encoded data removed]",
      "text/plain": [
       "<Figure size 432x216 with 1 Axes>"
      ]
     },
     "metadata": {},
     "output_type": "display_data"
    },
    {
     "name": "stdout",
     "output_type": "stream",
     "text": [
      "Number of Open Accounts\n",
      "MannwhitneyuResult(statistic=9279311.5, pvalue=0.22142637178864455)\n"
     ]
    },
    {
     "data": {
      "image/png": "[encoded data removed]",
      "text/plain": [
       "<Figure size 432x216 with 1 Axes>"
      ]
     },
     "metadata": {},
     "output_type": "display_data"
    },
    {
     "name": "stdout",
     "output_type": "stream",
     "text": [
      "Years of Credit History\n",
      "MannwhitneyuResult(statistic=9339658.0, pvalue=0.3886945952485082)\n"
     ]
    },
    {
     "data": {
      "image/png": "[encoded data removed]",
      "text/plain": [
       "<Figure size 432x216 with 1 Axes>"
      ]
     },
     "metadata": {},
     "output_type": "display_data"
    },
    {
     "name": "stdout",
     "output_type": "stream",
     "text": [
      "Current Loan Amount\n",
      "MannwhitneyuResult(statistic=9230199.5, pvalue=0.12317435968682072)\n"
     ]
    },
    {
     "data": {
      "image/png": "[encoded data removed]",
      "text/plain": [
       "<Figure size 432x216 with 1 Axes>"
      ]
     },
     "metadata": {},
     "output_type": "display_data"
    },
    {
     "name": "stdout",
     "output_type": "stream",
     "text": [
      "Current Credit Balance\n",
      "MannwhitneyuResult(statistic=9334050.0, pvalue=0.3716147491364306)\n"
     ]
    },
    {
     "data": {
      "image/png": "[encoded data removed]",
      "text/plain": [
       "<Figure size 432x216 with 1 Axes>"
      ]
     },
     "metadata": {},
     "output_type": "display_data"
    },
    {
     "name": "stdout",
     "output_type": "stream",
     "text": [
      "Monthly Debt\n",
      "MannwhitneyuResult(statistic=9288187.0, pvalue=0.24369523330673137)\n"
     ]
    },
    {
     "data": {
      "image/png": "[encoded data removed]",
      "text/plain": [
       "<Figure size 432x216 with 1 Axes>"
      ]
     },
     "metadata": {},
     "output_type": "display_data"
    },
    {
     "name": "stdout",
     "output_type": "stream",
     "text": [
      "Credit Score\n",
      "MannwhitneyuResult(statistic=9371108.5, pvalue=0.48705928090901335)\n"
     ]
    },
    {
     "data": {
      "image/png": "[encoded data removed]",
      "text/plain": [
       "<Figure size 432x216 with 1 Axes>"
      ]
     },
     "metadata": {},
     "output_type": "display_data"
    }
   ],
   "source": [
    "# смотрим похоже-ли распределение непрерывных показателей на train и test\n",
    "\n",
    "from scipy.stats import mannwhitneyu\n",
    "\n",
    "# p > 5% - распределения похожи\n",
    "figsize = (6, 3)\n",
    "for col in COL_SELECTED_NUM:\n",
    "    plt.figure(figsize=figsize)\n",
    "    sns.set(font_scale=0.8)\n",
    "    sns.kdeplot(df[col], shade=True, label='train', color='r')\n",
    "    sns.kdeplot(df_test[col], shade=True, label='test', color='g')\n",
    "    print(col)\n",
    "    print(mannwhitneyu(df[col], df_test[col]))\n",
    "    plt.legend()\n",
    "    plt.title(col)\n",
    "    plt.show()"
   ]
  },
  {
   "cell_type": "code",
   "execution_count": null,
   "metadata": {},
   "outputs": [],
   "source": []
  },
  {
   "cell_type": "code",
   "execution_count": 179,
   "metadata": {},
   "outputs": [
    {
     "data": {
      "image/png": "[encoded data removed]",
      "text/plain": [
       "<Figure size 720x576 with 1 Axes>"
      ]
     },
     "metadata": {},
     "output_type": "display_data"
    }
   ],
   "source": [
    "# смотрим похожесть значений на категориальных признаках\n",
    "\n",
    "plt.figure(figsize=(10, 8))\n",
    "sns.pointplot(x='Purpose', y='Credit Default', data=df, capsize=.1,);"
   ]
  },
  {
   "cell_type": "code",
   "execution_count": null,
   "metadata": {},
   "outputs": [],
   "source": []
  },
  {
   "cell_type": "code",
   "execution_count": null,
   "metadata": {},
   "outputs": [],
   "source": []
  },
  {
   "cell_type": "markdown",
   "metadata": {},
   "source": [
    "## Обучение на моделях <a name=20_learn>\n",
    "    \n",
    "[к оглавлению](#index)"
   ]
  },
  {
   "cell_type": "code",
   "execution_count": 145,
   "metadata": {},
   "outputs": [],
   "source": [
    "X = df[COL_SELECTED]\n",
    "y = df['Credit Default']\n",
    "\n",
    "X_train, X_test, y_train, y_test = train_test_split(X, y, test_size=0.30, random_state=21)"
   ]
  },
  {
   "cell_type": "code",
   "execution_count": 146,
   "metadata": {},
   "outputs": [],
   "source": [
    "def pred_model(model):\n",
    "    model.fit(X_train, y_train)\n",
    "\n",
    "    y_train_pred = model.predict(X_train)\n",
    "    y_test_pred = model.predict(X_test)\n",
    "\n",
    "    print('*'*15)\n",
    "    print(model, '  --  ', f1_score(y_test, y_test_pred))\n",
    "    "
   ]
  },
  {
   "cell_type": "code",
   "execution_count": 147,
   "metadata": {},
   "outputs": [
    {
     "name": "stdout",
     "output_type": "stream",
     "text": [
      "***************\n",
      "LogisticRegression(C=5, class_weight='balanced', max_iter=50, penalty='l1',\n",
      "                   solver='liblinear')   --   0.49265138154027044\n",
      "***************\n",
      "XGBClassifier(base_score=0.5, booster='gbtree', colsample_bylevel=1,\n",
      "              colsample_bynode=1, colsample_bytree=1, eval_metric='logloss',\n",
      "              gamma=0, gpu_id=-1, importance_type='gain',\n",
      "              interaction_constraints='', learning_rate=0.300000012,\n",
      "              max_delta_step=0, max_depth=6, min_child_weight=1, missing=nan,\n",
      "              monotone_constraints='()', n_estimators=100, n_jobs=0,\n",
      "              num_parallel_tree=1, random_state=21, reg_alpha=0, reg_lambda=1,\n",
      "              scale_pos_weight=1, subsample=1, tree_method='exact',\n",
      "              validate_parameters=1, verbosity=None)   --   0.44140625000000006\n",
      "***************\n",
      "KNeighborsClassifier()   --   0.28489483747609945\n",
      "***************\n",
      "LGBMClassifier(random_state=21)   --   0.44255319148936173\n",
      "***************\n",
      "<catboost.core.CatBoostClassifier object at 0x000001574E969730>   --   0.536231884057971\n",
      "***************\n",
      "AdaBoostClassifier()   --   0.44396551724137934\n",
      "***************\n",
      "SVC()   --   0.0\n",
      "***************\n",
      "GaussianNB()   --   0.48463632827693504\n",
      "***************\n",
      "ExtraTreesClassifier(bootstrap=True, class_weight='balanced',\n",
      "                     min_samples_split=0.3, random_state=42)   --   0.518918918918919\n",
      "***************\n",
      "GradientBoostingClassifier(learning_rate=7, random_state=42)   --   0.347378277153558\n",
      "***************\n",
      "Perceptron(class_weight='balanced')   --   0.4822294022617124\n"
     ]
    }
   ],
   "source": [
    "for model in [\n",
    "            LogisticRegression(C = 5, class_weight = 'balanced', penalty = 'l1', solver = 'liblinear', max_iter = 50), \n",
    "            xgb.XGBClassifier(eval_metric=\"logloss\", random_state=21),\n",
    "            KNeighborsClassifier(),\n",
    "            lgbm.LGBMClassifier(random_state=21),\n",
    "            catb.CatBoostClassifier(class_weights=[1, 3.5], silent=True, random_state=21),\n",
    "            AdaBoostClassifier(),\n",
    "            SVC(),\n",
    "            GaussianNB(),\n",
    "            ExtraTreesClassifier(random_state=42, bootstrap=True, min_samples_split=0.3, class_weight='balanced'),\n",
    "            GradientBoostingClassifier(learning_rate=7, random_state=42),\n",
    "            Perceptron(class_weight='balanced')    \n",
    "]:\n",
    "        pred_model(model)"
   ]
  },
  {
   "cell_type": "code",
   "execution_count": 148,
   "metadata": {},
   "outputs": [
    {
     "name": "stdout",
     "output_type": "stream",
     "text": [
      "0.5345384118786313\n"
     ]
    }
   ],
   "source": [
    "# ансамбль моделей\n",
    "\n",
    "model_vote = VotingClassifier(\n",
    "    estimators=[\n",
    "#         ('Logistic Regression', \n",
    "#                  LogisticRegression(C = 5, class_weight = 'balanced', penalty = 'l1', solver = 'liblinear', max_iter = 50)),\n",
    "#         ('XGBoost', xgb.XGBClassifier(eval_metric=\"logloss\", use_label_encoder=False, random_state=21)),\n",
    "#         ('K-Neighbours', KNeighborsClassifier()),\n",
    "#         ('LightGBM', lgbm.LGBMClassifier(random_state=21)),\n",
    "        ('CatBooster', \n",
    "                catb.CatBoostClassifier(class_weights=[1, 3.5], silent=True, random_state=21)),\n",
    "#         ('Ada Boost', AdaBoostClassifier()),\n",
    "#         ('SVM', SVC()),\n",
    "#         ('Naive Bayes', GaussianNB()),\n",
    "        ('Extra Tree', \n",
    "                ExtraTreesClassifier(random_state=42, bootstrap=True, min_samples_split=0.3, class_weight='balanced')),\n",
    "#         ('Gradient Boosting', GradientBoostingClassifier(learning_rate=7, random_state=42)),\n",
    "#         ('Perceptron', Perceptron(class_weight='balanced'))\n",
    "    ],\n",
    "    voting='hard')\n",
    "#     n_jobs=-1)\n",
    "\n",
    "model_vote.fit(X_train, y_train)\n",
    "\n",
    "y_train_pred = model_vote.predict(X_train)\n",
    "y_test_pred = model_vote.predict(X_test)\n",
    "\n",
    "print(f1_score(y_test, y_test_pred))"
   ]
  },
  {
   "cell_type": "code",
   "execution_count": 150,
   "metadata": {
    "scrolled": true
   },
   "outputs": [],
   "source": [
    "# сохраняем результат\n",
    "\n",
    "# df_test[\"Credit Default\"] = model_vote.predict(df_test[COL_SELECTED])\n",
    "\n",
    "# df_test['ID'] = df_test.index.tolist()\n",
    "# df_test['ID'] = df_test['ID'] + 7500\n",
    "# df_test1 = df_test[['Credit Default', 'ID']]\n",
    "# df_test1.to_csv(r'_base1_NoProblems_.csv', index=False)"
   ]
  },
  {
   "cell_type": "code",
   "execution_count": null,
   "metadata": {},
   "outputs": [],
   "source": []
  },
  {
   "cell_type": "code",
   "execution_count": null,
   "metadata": {},
   "outputs": [],
   "source": []
  },
  {
   "cell_type": "code",
   "execution_count": null,
   "metadata": {},
   "outputs": [],
   "source": []
  },
  {
   "cell_type": "code",
   "execution_count": null,
   "metadata": {},
   "outputs": [],
   "source": []
  },
  {
   "cell_type": "markdown",
   "metadata": {},
   "source": [
    "**Урок 2. Теория**\n",
    "\n",
    "1. В чём различие между зависимыми и независимыми выборками?\n",
    "\n",
    "\n",
    "\n",
    "2. Когда применяются параметрические статистические критерии, а когда — их непараметрические аналоги?\n",
    "\n"
   ]
  },
  {
   "cell_type": "markdown",
   "metadata": {},
   "source": [
    "**Домашка 1. Теоретический вопросы.**\n",
    "\n",
    "1. Приведите по 2 примера, когда лучше максимизировать Precision, а когда Recall.\n",
    "\n",
    "Precision (точность): используется, когда важно не ошибиться при обнаружении искомых объектов. Примеры: `1- обнаружение магазинных воришек` (важно не только найти воришек, но и не обвинить невиновных) или `2- диагностика тяжелых, но трудно диагностируемых заболеваний`.\n",
    "Т.е. мы должны быть уверенны, когда относим что-то к искомому классу.\n",
    "\n",
    "Recall (полнота): использутеся, когда нам важно найти максимальное количество объектов искомого класса. Примеры: `1- обнаружение нарушителей на КПП важного объекта` или `2- обнаружение террористов`. \n",
    "Т.е. можно позволить себе ошибаться, главное - не пропустить виновных.\n",
    "\n",
    "2. Почему мы используем F-меру, почему, например, нельзя просто взять среднее от Precision и Recall?\n",
    "\n",
    "`F-мера это гармоническое среднее. Т.е. по сути это тоже среднее, но с возможностью регулировать величину значения вкладв в этот показатель Точности и Посноты при такой необходимости. `"
   ]
  },
  {
   "cell_type": "code",
   "execution_count": null,
   "metadata": {},
   "outputs": [],
   "source": []
  }
 ],
 "metadata": {
  "kernelspec": {
   "display_name": "Python 3",
   "language": "python",
   "name": "python3"
  },
  "language_info": {
   "codemirror_mode": {
    "name": "ipython",
    "version": 3
   },
   "file_extension": ".py",
   "mimetype": "text/x-python",
   "name": "python",
   "nbconvert_exporter": "python",
   "pygments_lexer": "ipython3",
   "version": "3.8.3"
  }
 },
 "nbformat": 4,
 "nbformat_minor": 4
}
